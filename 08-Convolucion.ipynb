{
 "cells": [
  {
   "cell_type": "markdown",
   "metadata": {
    "nbsphinx": "hidden"
   },
   "source": [
    "# Convolución\n",
    "\n",
    "<div class=\"alert alert-block alert-warning\">\n",
    "Este notebook es parte de una colección de apuntes para el curso IEE2103 Señales y Sistemas, <a href=\"http://https://www.ing.uc.cl/electrica/\">Departamento de Ingeniería Eléctrica</a>, <a href=\"http://www.uc.cl\">Pontificia Universidad Católica de Chile</a>.<br> Profesor: <a href=\"http://www.rodrigocadiz.com\">Rodrigo F. Cádiz</a><br>\n",
    "Consultas y comentarios: <a href=\"mailto:rcadiz@ing.puc.cl\">rcadiz@ing.puc.cl</a>\n",
    "\n",
    "</div>\n",
    "\n",
    "***"
   ]
  },
  {
   "cell_type": "markdown",
   "metadata": {},
   "source": [
    "## Definición\n",
    "\n",
    "La convolución es una operación muy importante en la teoría de señales y sistemas. Formalmente, la convolución de dos señales $x(t)$ and $h(t)$ se define como:\n",
    "\n",
    "\\begin{equation}\n",
    "(x * h)(t) = x(t) * h(t) = \\int_{ -\\infty}^{\\infty} x(\\tau) \\cdot h(t - \\tau) \\; d\\tau = \n",
    "\\int_{-\\infty}^{\\infty} x(t - \\tau) \\cdot h(\\tau) \\; d\\tau\n",
    "\\end{equation}\n",
    "\n",
    "donde el símbolo $*$ se utiliza para denotar esta operación. \n",
    "\n",
    "**Nota:** La notación $x(t) * h(t)$ no es formalmente correcta. Es importante recalcar que la convolución es una operación entre funciones y no una operación en la variable independiente, como esta notación insinúa. Es preferible usar la notación $(x * h)(t)$.\n",
    "\n",
    "Obviamente, para que la convolución exista, la integral debe converger. "
   ]
  },
  {
   "cell_type": "markdown",
   "metadata": {},
   "source": [
    "### Propiedades\n",
    "\n",
    "Dadas las señales $x(t)$, $h(t)$, $g(t) \\in \\mathbb{C}$ la convolución exhibe las siguientes propiedades: \n",
    "\n",
    "1. La convolución es [commutativa](https://en.wikipedia.org/wiki/Commutative_property)\n",
    "    \\begin{equation}\n",
    "    x(t) * h(t) = h(t) * x(t)\n",
    "    \\end{equation}\n",
    "\n",
    "2. La convolución es [asociativa](https://en.wikipedia.org/wiki/Associative_property)\n",
    "    \\begin{equation}\n",
    "    \\left[ x(t) * h(t) \\right] * g(t) = x(t) * \\left[ h(t) * g(t) \\right] \n",
    "    \\end{equation}\n",
    "\n",
    "3. La convolución es [distributiva](https://en.wikipedia.org/wiki/Distributive_property)\n",
    "    \\begin{equation}\n",
    "    x(t) * \\left[ h(t) + g(t) \\right] = x(t) * h(t) + x(t) * g(t)\n",
    "    \\end{equation}\n",
    "\n",
    "4. Multiplicación por un escalar $a \\in \\mathbb{C}$\n",
    "    \\begin{equation}\n",
    "    a \\cdot \\left[ x(t) * h(t) \\right] = \\left[ a \\cdot x(t) \\right] * h(t) = x(t) * \\left[ a \\cdot h(t) \\right]\n",
    "    \\end{equation}\n",
    "\n",
    "5. Derivada de la convolución\n",
    "    \\begin{equation}\n",
    "    \\frac{d}{dt} \\left[ x(t) * h(t) \\right] =  \\frac{d x(t)}{dt} * h(t) = x(t) * \\frac{d h(t)}{dt}\n",
    "    \\end{equation}"
   ]
  },
  {
   "cell_type": "markdown",
   "metadata": {},
   "source": [
    "### Interpretación gráfica\n",
    "\n",
    "La convolución usualmente se [interpreta de una manera gráfica](https://en.wikipedia.org/wiki/Convolution#Visual_explanation). Esta interpretación provee información muy útil para entender el cálculo que involucra la convolución y permite estimar su resultado en forma visual de forma rápida. \n",
    "\n",
    "\\begin{equation}\n",
    "y(t) = \\int_{\\tau = -\\infty}^{\\tau = \\infty} x(\\tau) \\cdot h(t-\\tau) \\; d\\tau\n",
    "\\end{equation}\n",
    "\n",
    "La operación anterior se puede descomponer en cuatro sub-operaciones: \n",
    "\n",
    "1. Sustituir $t$ por $\\tau$ en $x(t)$ y $h(t)$,\n",
    "\n",
    "2. Reversar en el tiempo $h(\\tau)$ (espejamiento en el eje vertical),\n",
    "\n",
    "3. Desplazar $h(-\\tau)$ en $t$ para tener $h(t - \\tau)$, un desplazamiento hacia la  **derecha** para $t>0$ o hacia la **izquierda** para $t<0$,\n",
    "\n",
    "4. Determinar para cual $t = -\\infty \\dots \\infty$ la versión espejada y desplazada $h(t - \\tau)$ se traslapa con $x(\\tau)$, calcular la integral específica (el área de traslape) para todos los $t$ relevantes para construir $y(t)$\n"
   ]
  },
  {
   "cell_type": "markdown",
   "metadata": {},
   "source": [
    "**Ejemplo**\n",
    "\n",
    "Consideremos la convolución $y(t) = x(t) * h(t)$ para las señales\n",
    "\n",
    "\\begin{align}\n",
    "h(t) &= e^{-t}u(t) \\\\\n",
    "x(t) &= \\wedge \\left(t\\right)\n",
    "\\end{align}\n",
    "\n",
    "En el siguiente gráfico, se muestran ambas señales."
   ]
  },
  {
   "cell_type": "code",
   "execution_count": 2,
   "metadata": {},
   "outputs": [
    {
     "data": {
      "text/plain": [
       "<Figure size 576x216 with 0 Axes>"
      ]
     },
     "metadata": {},
     "output_type": "display_data"
    },
    {
     "data": {
      "application/vnd.jupyter.widget-view+json": {
       "model_id": "38beced1c181460e9babc8fc62856512",
       "version_major": 2,
       "version_minor": 0
      },
      "text/plain": [
       "interactive(children=(FloatSlider(value=1.0, description='tau', max=10.0, min=-10.0, step=0.25), Output()), _d…"
      ]
     },
     "metadata": {},
     "output_type": "display_data"
    },
    {
     "data": {
      "text/plain": [
       "<function __main__.plot_func(tau)>"
      ]
     },
     "execution_count": 2,
     "metadata": {},
     "output_type": "execute_result"
    }
   ],
   "source": [
    "from ipywidgets import interact, interactive, fixed, interact_manual\n",
    "import ipywidgets as widgets\n",
    "\n",
    "import numpy as np\n",
    "from scipy import integrate\n",
    "import matplotlib.pyplot as plt\n",
    "import matplotlib.animation as animation\n",
    "from IPython.display import HTML\n",
    "\n",
    "%matplotlib inline\n",
    "\n",
    "f1 = lambda t: np.maximum(0, 1-abs(t))\n",
    "f2 = lambda t: (t>0) * np.exp(-t)\n",
    "\n",
    "t = np.linspace(-6, 6, 1000) \n",
    "\n",
    "plt.figure(figsize=(8,3))\n",
    "    \n",
    "def plot_func(tau):    \n",
    "    flipped = lambda t: f2(tau-t)\n",
    "    product = lambda t: f1(t)*f2(tau-t)\n",
    "    plt.plot(t, f1(t), label=r'$x(\\tau)$')\n",
    "    plt.plot(t, flipped(t), label=r'$h(t-\\tau)$')\n",
    "    plt.fill_between(t, product(t), label=r'$x(\\tau)h(t-\\tau)$',facecolor='red')\n",
    "    plt.legend()\n",
    "    display(HTML(\"Valor de convolución para un desfase particular (área roja): $(h*x)(t=%.0f) = %.2f$\" % (tau, integrate.simps(product(t), t))))\n",
    "\n",
    "slider_t = widgets.FloatSlider(value=1,min=-10,max=10,step=0.25) \n",
    "\n",
    "interact(plot_func, tau=slider_t)"
   ]
  },
  {
   "cell_type": "markdown",
   "metadata": {},
   "source": [
    "## Convolución de distribuciones\n",
    "\n",
    "En general la convolución de dos distribuciones no está definida. Sin embargo, es posible verificar que para cada $h,v,\\varphi \\in \\mathcal{S}(\\mathbb{R};\\mathbb{C})$ se tiene:\n",
    "\n",
    "$$  \\int_{\\mathbb{R}} \\left( \\varphi \\ast h \\right)(t) v(t) dt =    \\int_{\\mathbb{R}} \\left(\\int_{\\mathbb{R}} \\varphi(t-s) h(s) ds \\right)  v(t)dt  $$\n",
    " \n",
    "y de acuerdo al Teorema de Fubini:\n",
    " \n",
    "$$  \\int_{\\mathbb{R}} \\left( \\varphi \\ast h \\right) v(t) dt =    \\int_{\\mathbb{R}} \\left(\\int_{\\mathbb{R}} \\varphi(t-s) v(t)dt \\right)    h(s) ds = \\int_{\\mathbb{R}} \\left(\\varphi \\ast v \\right)(-s) h(s) ds  $$ \n",
    "  \n",
    "Este resultado se puede generalizar para definir la convolución de una distribución y una función temperada.\n",
    "\n",
    "### Convolución de una distribución por una función temperada\n",
    "Para cada distribución temperada $\\mathbf{T}$ and $\\phi \\in \\mathcal{S}(\\mathbb{R};\\mathbb{C})$, se puede definir la convolución $\\mathbf{T} \\ast \\phi \\in \\mathcal{S}'(\\mathbb{R};\\mathbb{C})$ mediante:\n",
    "\n",
    "\\begin{equation}\n",
    "\\boxed{ \\langle  \\mathbf{ T } \\ast \\phi , \\varphi \\rangle = \\langle \\mathbf{T}, \\partial_{-1} \\phi \\ast \\varphi  \\rangle  \\;\\;\\;\\; \\forall \\varphi \\in \\mathcal{S}(\\mathbb{R};\\mathbb{C})  }\n",
    "\\label{convolution_distribution}\n",
    "\\end{equation} \n",
    " \n",
    "**Convolución con el impulso**\n",
    "\n",
    "Sea $f \\in \\mathcal{S}(\\mathbb{R};\\mathbb{C})$, entonces sabemos que la convolución $\\mathbf{\\delta} \\ast f$ es una distribución temperada dada por:\n",
    " \n",
    " $$  \\langle   \\mathbf{ \\delta} \\ast f, \\varphi \\rangle = \\langle \\mathbf{\\delta}, \\partial_{-1} f \\ast \\varphi  \\rangle   = \\left(\\int_{\\mathbb{R}} f(\\tau)\\varphi(\\tau-t) d\\tau\\right)|{t=0}{} =\\int_{\\mathbb{R}} f(\\tau)\\varphi(\\tau) d\\tau = \\langle  \\mathbf{f}, \\varphi \\rangle \\;\\;\\;\\; \\forall \\varphi \\in \\mathcal{S}(\\mathbb{R};\\mathbb{C})   $$\n",
    " \n",
    "donde $\\mathbf{f}$ es la distribución temperada asociada con $f$. Vemos entonces que la distribución $\\mathbf{\\delta}$ es:\n",
    "\n",
    "\n",
    " $$  \\boxed{\\mathbf{ \\delta} \\ast f =  \\mathbf{ f}}$$ \n",
    " \n",
    "Este resultado es importantísimo para la teoría de sistemas lineales e invariantes, puesto que implica que es posible \"descomponer\" una función $f$ en una sucesión infinita de impulsos escalados y desfasados, tal como lo muestra la figura. \n"
   ]
  },
  {
   "cell_type": "markdown",
   "metadata": {
    "nbsphinx": "hidden"
   },
   "source": [
    "<div class=\"alert alert-block alert-warning\">\n",
    "<b>Copyright</b><br>\n",
    "\n",
    "Estos apuntes están licenciados bajo la licencia <a href=\"https://creativecommons.org/licenses/by/4.0/\">Creative Commons Attribution 4.0</a>.<br>\n",
    "Como citar: <i>Rodrigo F. Cádiz, Apuntes de Señales y Sistemas.</i>\n",
    "</div>"
   ]
  }
 ],
 "metadata": {
  "kernelspec": {
   "display_name": "Python 3",
   "language": "python",
   "name": "python3"
  },
  "language_info": {
   "codemirror_mode": {
    "name": "ipython",
    "version": 3
   },
   "file_extension": ".py",
   "mimetype": "text/x-python",
   "name": "python",
   "nbconvert_exporter": "python",
   "pygments_lexer": "ipython3",
   "version": "3.7.4"
  }
 },
 "nbformat": 4,
 "nbformat_minor": 1
}
