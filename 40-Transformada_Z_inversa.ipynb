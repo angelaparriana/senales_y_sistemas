{
 "cells": [
  {
   "cell_type": "markdown",
   "metadata": {
    "nbsphinx": "hidden"
   },
   "source": [
    "# Transformada Z inversa\n",
    "\n",
    "<div class=\"alert alert-block alert-warning\">\n",
    "Este notebook es parte de una colección de apuntes para el curso IEE2103 Señales y Sistemas, <a href=\"http://https://www.ing.uc.cl/electrica/\">Departamento de Ingeniería Eléctrica</a>, <a href=\"http://www.uc.cl\">Pontificia Universidad Católica de Chile</a>.<br> Profesor: <a href=\"http://www.rodrigocadiz.com\">Rodrigo F. Cádiz</a><br>\n",
    "Consultas y comentarios: <a href=\"mailto:rcadiz@ing.puc.cl\">rcadiz@ing.puc.cl</a>\n",
    "\n",
    "</div>\n",
    "\n",
    "***"
   ]
  },
  {
   "cell_type": "markdown",
   "metadata": {},
   "source": [
    "La Transformada Z inversa debe mapear una transformada de valor complejo $F(z) \\in \\mathbb{C}$ función de la variable compleja $z \\in \\mathbb{C}$ hacia la función compleja $f(t) \\in \\mathbb{C}$ con variable independiente real $t \\in \\mathbb{R}$. Es posible mostrar que la transformada Z inversa $f(t) = \\mathcal{Z}^{-1}\\{F(z)\\}$ está determinada en forma única para un gran número de señales prácticas. \n",
    "\n",
    "\n",
    "## La transformada Z inversa\n",
    "Sea $f$ una función causal con Transformada Z $\\mathcal{Z}\\{f\\}$ con ROC $R$. La Transformada Z inversa está dada por la integral:\n",
    "\n",
    "\\begin{equation}\n",
    "\\boxed{f[n] =  \\frac{1}{2\\pi i}  \\int_{\\Gamma} F(z) z^{n-1} dz= \\frac{1}{2\\pi i}  \\int_{\\Gamma} \\mathcal{Z}\\{f\\}(z) z^{n-1}dz }\n",
    "\\end{equation}\n",
    "\n",
    "Esta integral se conoce como la [integral de Fourier-Mellin](https://en.wikipedia.org/wiki/Inverse_Laplace_transform).\n",
    "\n",
    "La derivación de esta fórmula se puede hacer a partir de la definición de la Transformada Z bilateral:\n",
    "\n",
    "$$ F(z) = \\sum_{k=0}^{\\infty}f[k]z^{-k} $$\n",
    "\n",
    "Multiplicando ambos lados por $z^{n-1}$ e integrando en un contorno $\\Gamma$ con respecto a $z$ tenemos:\n",
    "\n",
    "\\begin{equation}\n",
    "\\int_{\\Gamma} z^{n-1}  F(z) dz = \\int_{\\Gamma} z^{n-1} \\left( \\sum_{k=0}^{\\infty}f[k]z^{-k} \\right) dz \n",
    "\\end{equation}\n",
    "\n",
    "Intercambiando el orden de la suma y la integración, tenemos:\n",
    "\n",
    "\\begin{equation}\n",
    "\\int_{\\Gamma} z^{n-1}  F(z) dz = \\sum_{k=0}^{\\infty} f[k] \\left( \\int_{\\Gamma} z^{-k+n-1} \\right) dz \n",
    "\\end{equation}\n",
    "\n",
    "Ahora, de acuerdo a la teoría de variables complejas:\n",
    "\n",
    "\\begin{equation}\n",
    "\\int_{\\Gamma} z^{m} dz = \\begin{cases} 2\\pi i, & m=-1 \\\\ 0, & m \\neq -1 \\end{cases}\n",
    "\\end{equation}\n",
    "\n",
    "Finalmente,\n",
    "\n",
    "\\begin{equation}\n",
    "f[k] =  \\frac{1}{2\\pi i}  \\int_{\\Gamma} F(z) z^{k-1} dz\n",
    "\\end{equation}"
   ]
  },
  {
   "cell_type": "markdown",
   "metadata": {},
   "source": [
    "***\n",
    "## Teorema de los residuos de Cauchy\n",
    "\n",
    "El [Teorema de los residuos de Cauchy](https://en.wikipedia.org/wiki/Residue_theorem) provee una forma de calcular la integral de Fourier-Mellin. El teorema dice que el valor de una integral de línea de una función holomórfica sobre un contorno cerrado está cada por la suma de sus [residuos](https://en.wikipedia.org/wiki/Residue_(complex_analysis)). El residuo es el valor de la integral de línea para un camino que encierra una singularidad. Consecuentemente, la transformada Z inversa se puede calcular mediante la suma de las contribuciones de los residuos de todos los polos de la función.\n",
    "\n",
    "Formalmente, este teorema plantea que:\n",
    "\n",
    "\\begin{equation}\n",
    "\\oint_{\\gamma} f(z)dz = 2\\pi i \\sum_{k=1}^{N} I(\\gamma,a_k) \\mbox{Res}(f,a_k)\n",
    "\\end{equation}\n",
    "\n",
    "donde $\\gamma$ es el contorno o curva de integración a utilizar, $I$ es una función que determina en qué sentido recorrer el contorno (-1 si es en sentido horario o 1 si es anti-horario), y $\\mbox{Res}(f,a_k)$ son los residuos correspondientes a cada polo $a_k$ de $f$, encerrados por el contorno de integración.\n",
    "\n",
    "El contorno debe necesariamente encerrar los polos de $f$, tal como muestra la siguiente figura.\n",
    "<img src=\"images/Cauchy.png\">\n",
    "\n",
    "\n",
    "El residuo de una función compleja $f(z)$ respecto a un polo $z_0$ de orden $k$, se calcula mediante la siguiente fórmula:\n",
    "\n",
    "\\begin{equation}\n",
    "\\mbox{Res}(f(z),z_0) = \\lim_{z\\rightarrow z_0} \\left( \\frac{1}{(k-1)!}\\frac{d^{k-1}}{dz^{k-1}}(f(z)(z-z_0)^k)\\right)\n",
    "\\end{equation}\n",
    "\n",
    "En el caso de un polo $z_0$ de orden 1, es decir $k=1$, \n",
    "\n",
    "\\begin{equation}\n",
    "\\mbox{Res}(f(z),z_0) = \\lim_{z\\rightarrow z_0} f(z)(z-z_0)\n",
    "\\end{equation}\n",
    "\n",
    "En el caso de un doble polo $z_0$, es decir $k=2$, \n",
    "\\begin{equation}\n",
    "\\mbox{Res}(f(z),z_0) = \\lim_{z\\rightarrow z_0} \\left(\\frac{d}{dz}(f(z)(z-z_0)^2)\\right)\n",
    "\\end{equation}"
   ]
  },
  {
   "cell_type": "markdown",
   "metadata": {},
   "source": [
    "### Aplicación del Teorema de Cauchy al cálculo de transformadas Z inversas\n",
    "<div class=\"alert alert-block alert-info\">\n",
    "En este caso, tenemos que calcular\n",
    "\n",
    "$$ \\frac{1}{2\\pi i}  \\int_{\\Gamma} F(z) z^{n-1}dz = \\frac{1}{2\\pi i} \\oint_{\\gamma} f(z)dz = \\sum_{k=1}^{N}I(\\gamma,a_k)\\mbox{Res}(f,a_k) $$\n",
    "\n",
    "En este caso tenemos que $f(z) = F(z)z^{n-1}$. Para escoger el contorno adecuado, se debe elegir la curva donde $F(z)z^{n-1}$ converga. De acuerdo a eso, podemos aplicar el Teorema de Cauchy. Por lo tanto, para una función sin singularidades con $N$ polos $z_i$, podemos obtener la Transformada inversa mediante la fórmula:\n",
    "\n",
    "\n",
    "$$ \\mathcal{Z}^{-1}\\{F(z)\\} = \\sum_{i=1}^{N}\\mbox{Res}(z^{n-1}F(z),z_i) $$\n",
    "</div>\n",
    "\n",
    "\n",
    "\n"
   ]
  },
  {
   "cell_type": "markdown",
   "metadata": {},
   "source": [
    "***\n",
    "### Ejemplo: Inversa de $z/(z-1)^2$\n",
    "Consideremos $F(z)=\\frac{z}{(z-1)^2}$. Vemos que esta función tiene un doble polo en 1, por lo tanto:\n",
    "\n",
    "$$\\mbox{Res}(z^{n-1}F(z),1) = \\lim_{z\\rightarrow 1} \\frac{d}{dz}\\left(z^{n-1}\\frac{z}{(z-1)^2}(z-1)^2\\right) $$\n",
    "\n",
    "$$ = \\lim_{z\\rightarrow 1}(nz^{n-1}) = n $$\n",
    "\n",
    "Por lo que:\n",
    "\n",
    "$$ f[n] = n $$\n",
    "\n",
    "\n"
   ]
  },
  {
   "cell_type": "markdown",
   "metadata": {},
   "source": [
    "***\n",
    "### Ejemplo: Inversa de $z/(z-1)(z-2)$\n",
    "Consideremos $F(z) = \\frac{z}{(z-1)(z-2)}$. Vemos que esta función tiene un polo en 1 y otro en 2, por lo tanto:\n",
    "\n",
    "$$\\mbox{Res}(z^{n-1}F(z),1) = \\lim_{z\\rightarrow 1} \\left(z^{n-1}\\frac{z}{(z-1)(z-2)}(z-1) \\right) = -1 $$\n",
    "\n",
    "$$\\mbox{Res}(z^{n-1}F(z),2) = \\lim_{z\\rightarrow 1} \\left(z^{n-1}\\frac{z}{(z-1)(z-2)}(z-2) \\right) = 2^n $$\n",
    "\n",
    "Por lo tanto:\n",
    "\n",
    "$$ f[n] = 2^n - 1 $$\n",
    "\n"
   ]
  },
  {
   "cell_type": "markdown",
   "metadata": {},
   "source": [
    "***\n",
    "## Transformada inversa mediante división polinómica\n",
    "\n",
    "Una función racional $F(z)$ se puede escribir en términos de su numerador y denominador polinomiales\n",
    "\n",
    "\\begin{equation}\n",
    "F(z) = \\frac{\\sum_{m=0}^{M} \\beta_m z^m}{\\sum_{n=0}^{N} \\alpha_n z^n}\n",
    "\\end{equation}\n",
    "\n",
    "donde $M$, $N$ denotan el orden del numerador y denominador y $\\beta_m$, $\\alpha_n$ su respectivos coeficientes. Se asume que $\\alpha_N \\neq 0$ y que $M \\leq N$. Si $M > N$, entonces $F(z)$ se puede descomponer mediante una [división polinomial](https://en.wikipedia.org/wiki/Polynomial_long_division) en una suma de potencias de $z$ y una función racional que satisface $M \\leq N$. \n",
    "\n"
   ]
  },
  {
   "cell_type": "markdown",
   "metadata": {},
   "source": [
    "***\n",
    "## Transformada inversa mediante fracciones parciales\n",
    "\n",
    "En muchos casos es posible aplicar una [descomposición en fracciones parciales](https://en.wikipedia.org/wiki/Partial_fraction_decomposition) de $F(z)$ mediante la fórmula general:\n",
    "\n",
    "\\begin{equation}\n",
    "F(z) = A_0 + \\sum_{\\mu = 1}^{L} \\sum_{\\nu = 1}^{R_\\mu} \\frac{A_{\\mu \\nu}}{(z - z_{\\infty \\mu})^\\nu}\n",
    "\\end{equation}\n",
    "\n",
    "donde $z_{\\infty \\mu}$ denota el $\\mu$-ésimo polo único de $F(z)$, $R_\\mu$ su grado y $L$ número total de polos distintos $\\mu = 1 \\dots L$. \n",
    "\n",
    "\n",
    "Una vez efectuada la descomposición se pueden utilizar las [propiedades de la Transformada Z](39-Propiedades_de_la_Transformada_Z.ipynb) o bien tablas de [pares conocidos](39-Propiedades_de_la_Transformada_Z.ipynb#pares)."
   ]
  },
  {
   "cell_type": "markdown",
   "metadata": {},
   "source": [
    "<div class=\"alert alert-block alert-warning\">\n",
    "<b>Copyright</b><br>\n",
    "\n",
    "Estos apuntes están licenciados bajo la licencia <a href=\"https://creativecommons.org/licenses/by/4.0/\">Creative Commons Attribution 4.0</a>.<br>\n",
    "Como citar: <i>Rodrigo F. Cádiz, Apuntes de Señales y Sistemas.</i>\n",
    "</div>"
   ]
  }
 ],
 "metadata": {
  "@webio": {
   "lastCommId": null,
   "lastKernelId": null
  },
  "kernelspec": {
   "display_name": "Python 3",
   "language": "python",
   "name": "python3"
  },
  "language_info": {
   "codemirror_mode": {
    "name": "ipython",
    "version": 3
   },
   "file_extension": ".py",
   "mimetype": "text/x-python",
   "name": "python",
   "nbconvert_exporter": "python",
   "pygments_lexer": "ipython3",
   "version": "3.7.4"
  },
  "nbTranslate": {
   "displayLangs": [
    "*"
   ],
   "hotkey": "alt-t",
   "langInMainMenu": true,
   "sourceLang": "en",
   "targetLang": "fr",
   "useGoogleTranslate": true
  }
 },
 "nbformat": 4,
 "nbformat_minor": 1
}
