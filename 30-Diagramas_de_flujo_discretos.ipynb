{
 "cells": [
  {
   "cell_type": "markdown",
   "metadata": {
    "nbsphinx": "hidden"
   },
   "source": [
    "# Diagramas de flujo discretos\n",
    "\n",
    "<div class=\"alert alert-block alert-warning\">\n",
    "Este notebook es parte de una colección de apuntes para el curso IEE2103 Señales y Sistemas, <a href=\"http://https://www.ing.uc.cl/electrica/\">Departamento de Ingeniería Eléctrica</a>, <a href=\"http://www.uc.cl\">Pontificia Universidad Católica de Chile</a>.<br> Profesor: <a href=\"http://www.rodrigocadiz.com\">Rodrigo F. Cádiz</a><br>\n",
    "Consultas y comentarios: <a href=\"mailto:rcadiz@ing.puc.cl\">rcadiz@ing.puc.cl</a>\n",
    "\n",
    "</div>\n",
    "\n",
    "***"
   ]
  },
  {
   "cell_type": "markdown",
   "metadata": {},
   "source": [
    "## Sistemas descritos por ecuaciones de diferencias\n",
    "\n",
    "Un gran variedad de sistemas LTI discretos pueden ser descritos mediante ecuaciones de diferencias ordinarias, típicamente en función del un índice de muestras como variable independiente.\n",
    "\n",
    "Una ecuación de diferencias general LTI de orden N es\n",
    "\n",
    "$$ \\sum_{\\kappa=0}^{N} a_\\kappa y[n-\\kappa] = \\sum_{\\kappa=0}^{M} b_\\kappa x[n-\\kappa] $$\n",
    "\n",
    "donde $x$ es la entrada e $y$ la salida del sistema.\n",
    "\n",
    "Si la ecuación involucra retrasos en $y[n]$ ($N>0$) o $x[n]$, el sistema tiene memoria. La estabilidad del sistema depende de los coeficientes $a_\\kappa$. Observamos además que una unidad fundamental de los sistemas discretos es el retraso o delay."
   ]
  },
  {
   "cell_type": "markdown",
   "metadata": {},
   "source": [
    "*** \n",
    "### Diagramas\n",
    "\n",
    "Es útil representar este tipo de sistemas de manera gráfica mediante diagramas de flujo. Este tipo de diagramas tiene los siguientes elementos:\n",
    "\n",
    "\n",
    "<img width=\"300\" src=\"images/elementos_discretos.png\" />\n",
    "\n",
    "Se utiliza la notación $z^{-1}$ para denotar un retraso unitario, es decir un desfase de una sola muestra. Del mismo modo $z^{-M}$, denota un retraso de $M$ muestras. $z$ implica un adelanto de una muestra y $z^{M}$ un adelanto de $M$ muestras. Esta notación viene directamente de la Transformada Z.\n",
    "\n",
    "\n",
    "**Ejemplo:**\n",
    "\n",
    "El siguiente diagrama representa una ecuación de diferencias de primer orden:\n",
    "<img width=\"300\" src=\"images/primer_orden_discreto.png\" />\n",
    "\n",
    "De la figura se puede comprobar que\n",
    "\n",
    "$$ y[n] + a y[n-1] = bx[n] $$\n",
    "\n",
    "Reagrupando se obtiene:\n",
    "\n",
    "$$ y[n] = -ay[n-1] + b[x] $$\n"
   ]
  },
  {
   "cell_type": "markdown",
   "metadata": {},
   "source": [
    "### Formas directa I y II\n",
    "\n",
    "Un diagrama general para un sistema LTI de orden $N$ se puede apreciar en la siguiente figura:\n",
    "\n",
    "<img width=\"600\" src=\"images/directaI.png\">\n",
    "\n",
    "Este diagrama de flujo se conoce como [forma directa I](https://en.wikipedia.org/wiki/Digital_filter#Direct_form_I). Es claro que esta forma utiliza $2N$ retrasos o memorias.\n",
    "\n",
    "Notamos que la forma directa I consta de dos subsistemas en serie. El primero agrupa todos los retrasos de la entrada y el segundo todos los retrasos de la salida. Utilizando la propiedad de la conmutatividad de la convolución, sabemos que es posible intercambiar el orden de esos subsistemas, dando origen a la llamada [forma directa II](https://en.wikipedia.org/wiki/Digital_filter#Direct_form_II).\n",
    "\n",
    "<img width=\"600\" src=\"images/directaII.png\">\n",
    "\n",
    "<a name=\"formaDirectaII></a>\n",
    "La forma directa II es más eficiente ya que utiliza solo $N$ retrasos. "
   ]
  },
  {
   "cell_type": "markdown",
   "metadata": {},
   "source": [
    "### Condiciones iniciales\n",
    "\n",
    "\n",
    "Una ecuación diferencial general de orden N necesita N condiciones iniciales:\n",
    "\n",
    "$$ y[n], y[n-1], \\dots, y[n-N-1]$$\n",
    "\n",
    "evaluadas en $ n = n_0$\n",
    "\n",
    "Para un sistema **en reposo** las condiciones auxiliares deben ser cero. Si el sistema además es causal, el sistema debe estar en reposo inicial.\n",
    "\n",
    "Dicho de otra forma, si:\n",
    "\n",
    "$$ x[n] = 0, \\hspace{.5cm} n < n_0 $$\n",
    "\n",
    "entonces\n",
    "\n",
    "$$ y[n] = 0, \\hspace{.5cm} n < n_0 $$\n"
   ]
  },
  {
   "cell_type": "markdown",
   "metadata": {
    "nbsphinx": "hidden"
   },
   "source": [
    "<div class=\"alert alert-block alert-warning\">\n",
    "<b>Copyright</b><br>\n",
    "\n",
    "Estos apuntes están licenciados bajo la licencia <a href=\"https://creativecommons.org/licenses/by/4.0/\">Creative Commons Attribution 4.0</a>.<br>\n",
    "Como citar: <i>Rodrigo F. Cádiz, Apuntes de Señales y Sistemas.</i>\n",
    "</div>"
   ]
  }
 ],
 "metadata": {
  "kernelspec": {
   "display_name": "Python 3",
   "language": "python",
   "name": "python3"
  },
  "language_info": {
   "codemirror_mode": {
    "name": "ipython",
    "version": 3
   },
   "file_extension": ".py",
   "mimetype": "text/x-python",
   "name": "python",
   "nbconvert_exporter": "python",
   "pygments_lexer": "ipython3",
   "version": "3.7.3"
  }
 },
 "nbformat": 4,
 "nbformat_minor": 1
}
