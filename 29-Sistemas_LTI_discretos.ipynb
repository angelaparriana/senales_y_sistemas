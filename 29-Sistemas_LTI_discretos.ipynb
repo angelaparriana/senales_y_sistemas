{
 "cells": [
  {
   "cell_type": "markdown",
   "metadata": {
    "nbsphinx": "hidden"
   },
   "source": [
    "# Sistemas LTI discretos\n",
    "\n",
    "<div class=\"alert alert-block alert-warning\">\n",
    "Este notebook es parte de una colección de apuntes para el curso IEE2103 Señales y Sistemas, <a href=\"http://https://www.ing.uc.cl/electrica/\">Departamento de Ingeniería Eléctrica</a>, <a href=\"http://www.uc.cl\">Pontificia Universidad Católica de Chile</a>.<br> Profesor: <a href=\"http://www.rodrigocadiz.com\">Rodrigo F. Cádiz</a><br>\n",
    "Consultas y comentarios: <a href=\"mailto:rcadiz@ing.puc.cl\">rcadiz@ing.puc.cl</a>\n",
    "\n",
    "</div>\n",
    "\n",
    "***"
   ]
  },
  {
   "cell_type": "markdown",
   "metadata": {},
   "source": [
    "<a name=\"respuesta_al_impulso\"></a>\n",
    "## Respuesta al impulso\n",
    "\n",
    "El concepto de la respuesta al impulso de un sistema discreto LTI y su conexión con su descripción mediante ecuaciones de diferencias se abordará a continuación."
   ]
  },
  {
   "cell_type": "markdown",
   "metadata": {},
   "source": [
    "### Señal de salida\n",
    "\n",
    "La respuesta $y[n] = \\mathcal{L} \\{ x[n] \\}$ de un sistema LTI a una entrada abrbitraria $x[n]$ se puede encontrar aplicando la [propiedad del cedazo del impulso de Dirac discreto](../discrete_signals/standard_signals.ipynb#Dirac-Impulse). De esta forma, la señal de entrada se puede escribir como \n",
    "\\begin{equation}\n",
    "x[n] = \\sum_{\\kappa = -\\infty}^{\\infty} x[\\kappa] \\cdot \\delta[k-\\kappa]\n",
    "\\end{equation}\n",
    "\n",
    "Entonces la salida será\n",
    "\n",
    "\\begin{equation}\n",
    "y[n] = \\mathcal{L} \\left\\{ \\sum_{\\kappa = -\\infty}^{\\infty} x[\\kappa] \\cdot \\delta[n-\\kappa] \\right\\}\n",
    "\\end{equation}\n",
    "\n",
    "Como el sistema el lineal, podemos intercambiar la suma y el operador $\\mathcal{L}$:\n",
    "\n",
    "\\begin{equation}\n",
    "y[n] = \\sum_{\\kappa = -\\infty}^{\\infty} x[\\kappa] \\cdot \\mathcal{L} \\left\\{ \\delta[n-\\kappa] \\right\\}\n",
    "\\end{equation}\n",
    "\n",
    "donde $\\mathcal{L} \\{\\cdot\\}$ solo se aplica al impulso, dado que $x[\\kappa]$ es una constante con respecto al índice $n$.\n",
    "\n",
    "\n",
    "<div class=\"alert alert-block alert-info\">\n",
    "La respuesta del sistema al impulso de Dirac se denomina <a href=\"https://en.wikipedia.org/wiki/Impulse_response\"><b>respuesta al impulso</b></a>. Se define como\n",
    "\n",
    "\\begin{equation}\n",
    "h[k] = \\mathcal{L} \\left\\{ \\delta[n] \\right\\}\n",
    "\\end{equation}\n",
    "\n",
    "Si el sistema es además invariante, la respuesta a un impulso escalado es $\\mathcal{L} \\left\\{ \\delta[k-\\kappa]) \\right\\} = h[k-\\kappa]$, la cual es una respuesta que no depende del valor del desplazamiento. Entonces, para un sistema discreto LTI se tiene\n",
    "\n",
    "\\begin{equation}\n",
    "y[n] = \\sum_{\\kappa = -\\infty}^{\\infty} x[\\kappa] \\cdot h[n-\\kappa] = x[n] * h[n] = (x \\ast h)[n]\n",
    "\\end{equation}\n",
    "</div>\n",
    "\n",
    "\n",
    "Esta operación, tal como lo vimos anteriormente, es una  [*convolución*](https://en.wikipedia.org/wiki/Convolution). <font color=\"red\">Las propiedades de un sistema LTI están totalmente caracterizadas por su respuesta al impulso</font>. La respuesta $y[n]$ de un sistema a una entrada arbitraria $x[n]$ se obtiene mediante la convolución de la entrada $x[n]$ con la respuesta al impulso $h[n]$.\n"
   ]
  },
  {
   "cell_type": "markdown",
   "metadata": {},
   "source": [
    "### Ecuaciones de diferencia\n",
    "\n",
    "La respuesta al impulso $h[n] = \\mathcal{L} \\{ \\delta[n] \\}$ se puede determinar a partir de los coeficientes de una [ecuación de diferencias lineal](difference_equation.ipynb) que describa al sistema LTI, de la forma:\n",
    "\n",
    "\n",
    "\\begin{equation}\n",
    "\\sum_{\\kappa=0}^{N} a_\\kappa \\; y[n-\\kappa] = \\sum_{\\kappa=0}^{M} b_\\kappa \\; x[n-\\kappa]\n",
    "\\end{equation}\n",
    "\n",
    "Considerando la entrada $x[n] = \\delta[n]$ y calculando la [solución de la ecuación de diferencias](difference_equation.ipynb#Computation-of-the-Output-Signal) obtenemos:\n",
    "\n",
    "\\begin{equation}\n",
    "h[n] = \\frac{1}{a_0} \\left( \\sum_{\\kappa=0}^{M} b_\\kappa \\; \\delta[n-\\kappa] - \\sum_{\\kappa=1}^{N} a_\\kappa \\; h[n-\\kappa] \\right)\n",
    "\\end{equation}"
   ]
  },
  {
   "cell_type": "markdown",
   "metadata": {},
   "source": [
    "***\n",
    "### Respuesta al impulso finita (FIR)\n",
    "\n",
    "Consideremos un sistema [no-recursivo](difference_equation.ipynb#Recursive-and-Non-Recursive-Systems) con $a_\\kappa = 0$ para $n > 0$. Sin perder generalidad podemos asumir que $a_0 = 1$, dado que $\\frac{1}{a_0}$ se puede incorporar en los otros coeficientes dividiendolos por $a_0$. La respuesta al impulso está dada por\n",
    "\n",
    "\\begin{equation}\n",
    "h[n] = \\sum_{\\kappa=0}^{M} b_\\kappa \\; \\delta[n-\\kappa] = \\begin{cases} b_\\kappa & \\text{for } 0 \\leq n < M \\\\ 0 & \\text{en otro caso} \\end{cases}\n",
    "\\end{equation}\n",
    "\n",
    "Observamos que la suma de la fórmula anterior constituye una convolución entre la señal dada por las muestras $b_\\kappa$ y el impulso de Dirac $\\delta[n]$. La respuesta al impulso de un sistema no recursivo es finita de largo  $M$. Sus valores están dados por los coeficientes $b_\\kappa$ de la ecuación de diferencias que caracteriza el sistema. Una respuesta al impulso de largo finito de denomina [respuesta al impulso finita (FIR)](https://en.wikipedia.org/wiki/Finite_impulse_response). El término sistema o filtro FIR se utiliza como sinónimo de un sistema no recursivo, relacionando el largo de la respuesta al impulso con la estructura del sistema.\n",
    "\n",
    "**Ejemplo - Promedio móvil**\n",
    "\n",
    "De acuerdo a lo anterior, la respuesta al impulso de un [filtro de promedio móvil](difference_equation.ipynb#Moving-Average) está dada por\n",
    "\n",
    "\\begin{equation}\n",
    "h[n] = \\frac{1}{N} \\cdot \\sqcap_N[n]\n",
    "\\end{equation}\n",
    "\n",
    "Como una alternativa a la solución de la ecuación de diferencias mostrada anteriormente, la salida $y[n] = \\mathcal{L} \\{ y[n] \\}$ se calcula mediante la convolución con la respuesta al impulso."
   ]
  },
  {
   "cell_type": "code",
   "execution_count": 1,
   "metadata": {},
   "outputs": [
    {
     "data": {
      "image/png": "[encoded data removed]",
      "text/plain": [
       "<Figure size 720x288 with 2 Axes>"
      ]
     },
     "metadata": {
      "needs_background": "light"
     },
     "output_type": "display_data"
    }
   ],
   "source": [
    "import numpy as np\n",
    "from scipy import signal\n",
    "import matplotlib.pyplot as plt\n",
    "%matplotlib inline\n",
    "\n",
    "\n",
    "def rect(n, N):\n",
    "    return np.where((n >= 0) & (n < N), 1.0, 0.0)\n",
    "\n",
    "\n",
    "np.random.seed(seed=0)\n",
    "\n",
    "N = 10\n",
    "\n",
    "n = np.arange(0, 60)\n",
    "h = 1/N * rect(n, N)\n",
    "x = np.cos(2*np.pi/30 * n) + .2 * np.random.normal(size=(len(n)))\n",
    "y = np.convolve(x, h)\n",
    "\n",
    "plt.figure(figsize=(10, 4))\n",
    "plt.subplot(121)\n",
    "plt.stem(n, x)\n",
    "plt.xlabel('$n$')\n",
    "plt.ylabel(r'$x[n]$')\n",
    "plt.ylim([-1.5, 1.5])\n",
    "plt.title('Entrada al sistema')\n",
    "\n",
    "plt.subplot(122)\n",
    "plt.stem(n, y[0:len(x)])\n",
    "plt.xlabel('$n$')\n",
    "plt.ylabel('$y[n]$')\n",
    "plt.ylim([-1.5, 1.5])\n",
    "plt.title('Salida del sistema')\n",
    "plt.tight_layout()\n",
    "\n",
    "\n",
    "plt.show()"
   ]
  },
  {
   "cell_type": "markdown",
   "metadata": {},
   "source": [
    "**Ejercicio**\n",
    "\n",
    "* Compare la salida $y[n]$ calculada mediante convolución con la salida derivada de la solución de la ecuación de diferencias."
   ]
  },
  {
   "cell_type": "markdown",
   "metadata": {},
   "source": [
    "***\n",
    "### Respuesta al impulso infinita (IIR)\n",
    "\n",
    "En el caso de un [sistema recursivo](difference_equation.ipynb#Recursive-and-Non-Recursive-Systems), mediante la inspección de la fórmula para el cálculo de la respuesta al impulso a partir de los coeficientes de la ecuación de diferencias queda claro que la respuesta al impulso $h[n]$ para la muestra $n$ depende de la respuesta al impulso en las muestras pasadas $n-1, \\dots, n-N+1$. Este feedback o retroalimentación generalmente resulta en una respuesta al impulso de largo infinito. Este tipo de respuesta de denomina [respuesta al impulso infinita (IIR)](https://en.wikipedia.org/wiki/Infinite_impulse_response). El término sistema o filtro IIR se usa como sinónimo de un sistema recursivo, relacionando el largo de la respuesta al impulso con la estructura del sistema.\n",
    "\n",
    "Para una señal finita $x[n]$ la respuesta de un sistema recursivo no se puede calcular mediante una convolución lineal $y[n] = x[n] * h[n]$ en la práctica, dado el largo infinito de su respuesta al impulso. Como una solución práctica, muchas veces la respuesta al impulso es truncada a un largo finito, cuando ya ha decaído a un nivel razonable.\n",
    "\n",
    "**Ejemplo**\n",
    "\n",
    "La respuesta al impulso $h[n]$ de un [sistema LTI recursivo de segundo orden](difference_equation.ipynb#Second-Order-System) con ecuación de diferencias:\n",
    "\n",
    "\\begin{equation}\n",
    "y[n] - y[n-1] + \\frac{1}{2} y[n-2] = x[n]\n",
    "\\end{equation}\n",
    "\n",
    "Esta respuesta se puede obtener explícitamente mediante la solución de la ecuación de diferencias a una entrada impulsiva. Es claro que este sistema es del tipo IIR. Sus primeras 25 muestras serán calculadas y graficadas en el siguiente código. "
   ]
  },
  {
   "cell_type": "code",
   "execution_count": 2,
   "metadata": {},
   "outputs": [
    {
     "data": {
      "image/png": "[encoded data removed]",
      "text/plain": [
       "<Figure size 432x216 with 1 Axes>"
      ]
     },
     "metadata": {
      "needs_background": "light"
     },
     "output_type": "display_data"
    }
   ],
   "source": [
    "def dirac(n):\n",
    "    return np.where(n == 0, 1.0, 0.0)\n",
    "\n",
    "\n",
    "a = [1.0, -1.0, 1/2]\n",
    "b = [1.0]\n",
    "\n",
    "n = np.arange(256)\n",
    "x = dirac(n)\n",
    "h = signal.lfilter(b, a, x)\n",
    "\n",
    "plt.figure(figsize=(6, 3))\n",
    "plt.stem(n, h)\n",
    "plt.xlabel('$n$')\n",
    "plt.ylabel(r'$h[n]$')\n",
    "plt.axis([0, 25, -.5, 1.2])\n",
    "\n",
    "plt.show()"
   ]
  },
  {
   "cell_type": "markdown",
   "metadata": {},
   "source": [
    "Para ilustrar el decaímiento de la respuesta al impulso sobre un rango mayor, se suele graficar la magnitud $A[n]$ en una [escala de decibeles (dB)](https://en.wikipedia.org/wiki/Decibel).\n",
    "\n",
    "\\begin{equation}\n",
    "A[n] = 20 \\cdot \\log_{10} ( |h[n]| ) \\quad \\text{in dB}\n",
    "\\end{equation}"
   ]
  },
  {
   "cell_type": "code",
   "execution_count": 3,
   "metadata": {},
   "outputs": [
    {
     "data": {
      "image/png": "[encoded data removed]",
      "text/plain": [
       "<Figure size 720x288 with 1 Axes>"
      ]
     },
     "metadata": {
      "needs_background": "light"
     },
     "output_type": "display_data"
    }
   ],
   "source": [
    "import warnings\n",
    "warnings.filterwarnings('ignore', 'divide by zero encountered in log10')\n",
    "\n",
    "plt.figure(figsize=(10, 4))\n",
    "plt.stem(n, 20*np.log10(np.abs(h)))\n",
    "plt.xlabel('$n$')\n",
    "plt.ylabel(r'$|h[n]|$ in dB')\n",
    "plt.axis([0, n[-1], -800, 0])\n",
    "plt.grid()\n",
    "plt.show()"
   ]
  },
  {
   "cell_type": "markdown",
   "metadata": {},
   "source": [
    "Se observa que la magnitud de la respuesta al impulso ha decaído bastante después de 250 muestras. La respuesta al impulso truncada se puede utilizar para calcular la salida $y[k]$ mediante la convolución con la señal de entrada $x[n] = \\sqcap_{20}[n]$. \n"
   ]
  },
  {
   "cell_type": "code",
   "execution_count": 5,
   "metadata": {},
   "outputs": [
    {
     "data": {
      "image/png": "[encoded data removed]",
      "text/plain": [
       "<Figure size 432x216 with 1 Axes>"
      ]
     },
     "metadata": {
      "needs_background": "light"
     },
     "output_type": "display_data"
    }
   ],
   "source": [
    "def rect(n, N):\n",
    "    return np.where((n >= 0) & (n < N), 1.0, 0.0)\n",
    "\n",
    "\n",
    "x = rect(n, 20)\n",
    "y_ir = np.convolve(h, x)\n",
    "\n",
    "plt.figure(figsize=(6, 3))\n",
    "plt.stem(n, y_ir[:len(n)])\n",
    "plt.xlabel('$n$')\n",
    "plt.ylabel(r'$y[n]$')\n",
    "plt.axis([0, 40, -.7, 2.6])\n",
    "\n",
    "plt.show()"
   ]
  },
  {
   "cell_type": "markdown",
   "metadata": {},
   "source": [
    "**Ejercicio**\n",
    "\n",
    "* Compare la salida obtenida mediante la convolución con la calculada mediante la solución de la ecuación de diferencias."
   ]
  },
  {
   "cell_type": "markdown",
   "metadata": {},
   "source": [
    "***\n",
    "## Propiedades de los sistemas LTI\n",
    "\n",
    "Tal como estipulamos anteriormente, un sistema LTI se caracteriza por su respuesta al impulso, que denotaremos por $h[n]$. En las siguientes propiedades $f[n]$  es la entrada y $g[n]$ la salida.\n",
    "\n",
    "### Memoria\n",
    "Si un sistema LTI no tiene memoria, esto implica que \n",
    "\n",
    "$$ h[n-\\kappa] \\neq 0, \\text{solo para } n = \\kappa $$\n",
    "\n",
    "### Invertibilidad\n",
    "Un sistema LTI invertible cumple con:\n",
    "\n",
    "$$ g[n] = f[n] \\ast (h[n] \\ast h^{-1}[n]) = f[n] $$\n",
    "\n",
    "lo que implica que \n",
    "\n",
    "$$ h[n] \\ast h^{-1}[n] = \\delta[n] $$\n",
    "\n",
    "### Estabilidad\n",
    "\n",
    "Para que un sistema LTI sea estable se necesita que:\n",
    "\n",
    "$$ \\sum_{\\kappa = -\\infty}^{\\infty} |h[\\kappa]| < \\infty $$\n",
    "\n",
    "###  Respuesta a entrada cero\n",
    "$$ f[n] = 0 \\hspace{.2cm} \\forall n \\rightarrow g[n] = 0, \\hspace{.2cm}  \\forall t $$\n",
    "\n",
    "Por linealidad:\n",
    "\n",
    "$$ 0 f[n] \\rightarrow 0 g[n] $$\n",
    "\n",
    "### Causalidad\n",
    "\n",
    "Un sistema causal implica que \n",
    "\n",
    "$$ h[n] = 0, \\hspace{1cm}  n < 0 $$\n",
    "\n",
    "\n",
    "Para un sistema LTI causal, se tiene que\n",
    "\n",
    "$$ g[n] = \\sum_{\\kappa=-\\infty}^{n} f[\\kappa]h[n-\\kappa] $$\n"
   ]
  },
  {
   "cell_type": "markdown",
   "metadata": {
    "nbsphinx": "hidden"
   },
   "source": [
    "<div class=\"alert alert-block alert-warning\">\n",
    "<b>Copyright</b><br>\n",
    "\n",
    "Estos apuntes están licenciados bajo la licencia <a href=\"https://creativecommons.org/licenses/by/4.0/\">Creative Commons Attribution 4.0</a>.<br>\n",
    "Como citar: <i>Rodrigo F. Cádiz, Apuntes de Señales y Sistemas.</i>\n",
    "</div>"
   ]
  }
 ],
 "metadata": {
  "kernelspec": {
   "display_name": "Python 3",
   "language": "python",
   "name": "python3"
  },
  "language_info": {
   "codemirror_mode": {
    "name": "ipython",
    "version": 3
   },
   "file_extension": ".py",
   "mimetype": "text/x-python",
   "name": "python",
   "nbconvert_exporter": "python",
   "pygments_lexer": "ipython3",
   "version": "3.7.4"
  },
  "nbTranslate": {
   "displayLangs": [
    "*"
   ],
   "hotkey": "alt-t",
   "langInMainMenu": true,
   "sourceLang": "en",
   "targetLang": "fr",
   "useGoogleTranslate": true
  }
 },
 "nbformat": 4,
 "nbformat_minor": 1
}
