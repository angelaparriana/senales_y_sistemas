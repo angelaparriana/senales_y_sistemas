{
 "cells": [
  {
   "cell_type": "markdown",
   "metadata": {
    "nbsphinx": "hidden"
   },
   "source": [
    "# Respuesta de frecuencia discreta y filtros\n",
    "\n",
    "<div class=\"alert alert-block alert-warning\">\n",
    "Este notebook es parte de una colección de apuntes para el curso IEE2103 Señales y Sistemas, <a href=\"http://https://www.ing.uc.cl/electrica/\">Departamento de Ingeniería Eléctrica</a>, <a href=\"http://www.uc.cl\">Pontificia Universidad Católica de Chile</a>.<br> Profesor: <a href=\"http://www.rodrigocadiz.com\">Rodrigo F. Cádiz</a><br>\n",
    "Consultas y comentarios: <a href=\"mailto:rcadiz@ing.puc.cl\">rcadiz@ing.puc.cl</a>\n",
    "\n",
    "</div>\n",
    "\n",
    "***"
   ]
  },
  {
   "cell_type": "markdown",
   "metadata": {},
   "source": [
    "## Exponenciales como autofunciones de los sistemas LTI\n",
    "\n",
    "¿Por qué nos interesa descomponer señales discretas en exponenciales complejas? ¿Por qué estas funciones son tan importantes para el análisis de los sistemas LTI?\n",
    "\n",
    "La respuesta es bastante simple. Las exponenciales son [autofunciones de los sistemas LTI](https://en.wikipedia.org/wiki/Linear_time-invariant_system#Exponentials_as_eigenfunctions). ¿Qué significa esto? Básicamente que cuando una exponencial es la entrada a un sistema LTI, la salida del sistema es la misma exponencial, multiplicada por un factor, denominado autovalor. \n",
    "\n",
    "En efecto, consideremos un sistema LTI especificado por su respuesta al impulso $h[n]$ y supongamos que la entrada es $f[n] = z^{n}$, con $z \\in \\mathbb{C}$. Sabemos que en un sistema LTI, la salida $g[n]$ la podemos obtener mediante la convolución, es decir: \n",
    "\n",
    "\n",
    "$$ g[n] = (h \\ast f)[n] = \\sum_{k=-\\infty}^{\\infty} f[n-k] h[k] $$\n",
    "\n",
    "Pero en este caso específico, tenemos que\n",
    "\n",
    "$$ g[n] = \\sum_{k=-\\infty}^{\\infty} z^{n-k} h[k] = z^{n} \\sum_{k=-\\infty}^{\\infty} h[k] z^{- k} = z^{n} H(z)$$\n",
    "\n",
    "<font color=\"red\">¡¡Reconocemos en el lado derecho la Transformada Z bi-lateral $H(z)$ de la respuesta al impulso $h[n]$!!</font>\n",
    "\n",
    "Es decir, \n",
    "\n",
    "$$ \\boxed{g[n] = H(z) z^{n}} $$\n",
    "\n",
    "como $H(z)$ no depende de la variable independiente $n$ es simplemente un factor de amplificación.\n",
    "\n",
    "\n",
    "### Exponenciales complejas como autofunciones\n",
    "Por supuesto, las bases de Fourier también son autofunciones de los sistemas LTI, es decir, si la entrada a un sistema LTI es $f[n] = e^{i\\omega n} = e^{i 2 \\pi u n}$, la salida será simplemente:\n",
    "\n",
    "$$ \\boxed{g[n] = H(e^{i\\omega})e^{i\\omega n} = H(u)e^{i 2 \\pi u n t}} $$\n",
    "\n",
    "<div class=\"alert alert-block alert-info\">\n",
    "¡La salida de un sistema LTI a una entrada exponencial es simplemente la entrada $z^{n}$ multiplicada por el autovalor $H(z)$! $H(z)$ se conoce como la <a href=\"https://en.wikipedia.org/wiki/Transfer_function\">función de transferencia discreta</a> de un sistema. Conocida esta función $H(z)$, para entradas del tipo exponenciales basta multiplicar la exponencial por el valor de la función de transferencia para encontrar la salida. En el dominio de Fourier $H(e^{i\\omega})$ o $H(u)$, se conoce como la <a href=\"https://en.wikipedia.org/wiki/Frequency_response\">respuesta de frecuencia</a> de un sistema. \n",
    "  \n",
    "<b>En resumen, en ambos casos, la salida es sólo una versión escalada de la entrada.</b>\n",
    "</div>"
   ]
  },
  {
   "cell_type": "markdown",
   "metadata": {},
   "source": [
    "## Función de Transferencia\n",
    "\n",
    "Sabemos además por la propiedad de la convolución de la Transformada Z bi-lateral, que la salida, en el dominio Z, se puede encontrar mediante la relación\n",
    "\n",
    "$$\\boxed{G(z) = H(z)F(z)}$$ \n",
    "\n",
    "donde $H(z)$ es la función de transferencia, es decir la Transformada Z de la respuesta al impulso."
   ]
  },
  {
   "cell_type": "markdown",
   "metadata": {},
   "source": [
    "***\n",
    "## Respuesta de frecuencia\n",
    "\n",
    "Al evaluar la función de transferencia en $z = e^{i\\omega} = e^{i 2 \\pi u}$, obtenemos la respuesta de frecuencia:\n",
    "\n",
    "$$\\boxed{G(e^{i\\omega}) = H(e^{i\\omega})F(e^{i\\omega})}$$ \n",
    "\n",
    "o bien\n",
    "$$\\boxed{G(u) = H(u)F(u)}$$ \n",
    "\n",
    "donde $H(e^{i\\omega})$ o $H(u)$ es la respuesta de frecuencia, es decir la DTFT de la respuesta al impulso. \n",
    "\n",
    "Es importante entender que el rango de frecuencias normalizadas de la DTFT o de la DFT se representan en posiciones en el círculo unitario en el plano-$z$, tal como lo muestra la siguiente figura:\n",
    "\n",
    "<img width=\"600\" src=\"images/PlanoS-Frecuencias.png\">"
   ]
  },
  {
   "cell_type": "markdown",
   "metadata": {},
   "source": [
    "***\n",
    "## Evaluación geométrica de la función de transferencia\n",
    "\n",
    "Para ilustrar este procedimiento, consideremos una función de transferencia $F(z)$, una coordenada $a$ en el eje real y un valor complejo cualquiera $z_1$ en el plano-$z$, como lo indica la figura\n",
    "\n",
    "<img width=\"300\" src=\"images/z1.png\">\n",
    "\n",
    "Nos interesa determinar la influencia de la función $F(z)$ con respecto al punto $z_1$, en función de $a$.\n",
    "\n",
    "***\n",
    "### Función de transferencia de un cero\n",
    "\n",
    "Consideremos primero el caso \n",
    "\n",
    "$$ F(z) = z - a $$\n",
    "\n",
    "En este caso, $a$ representa un *cero* de la función $F(z)$. Al evaluar esta funcion en $z_1$ tenemos\n",
    "\n",
    "$$ F(z_1) = z_1 - a $$\n",
    "\n",
    "Nos damos cuenta que el valor de la función está determinado por el valor de la magnitud del vector $z_1 - a$ de la figura anterior. Es decir, para este sistema, el valor de la función $F(z_1)$ es directamente proporcional a la magnitud de dicho vector. El ángulo, o fase, de $F(z_1)$, es además igual al ángulo del vector $z_1 - a$ respecto al eje real.\n",
    "\n",
    "***\n",
    "### Función de transferencia de un polo\n",
    "\n",
    "Consideremos ahora el caso \n",
    "\n",
    "$$ F(z) = \\frac{1}{z - a}$$\n",
    "\n",
    "En este caso, $a$ representa un *polo* de la función $F(z)$. Al evaluar esta funcion en $z_1$ tenemos\n",
    "\n",
    "$$ F(z_1) = \\frac{1}{z_1 - a}$$\n",
    "\n",
    "Nos damos cuenta que el valor de la función está determinado por el valor inverso de la magnitud del vector $z_1 - a$ de la figura anterior. Es decir, para este sistema, el valor de la función $F(z_1)$ es inversamente proporcional a la magnitud de dicho vector. El ángulo, o fase, de $F(z_1)$, es además igual al ángulo con signo negativo del vector $z_1 - a$ respecto al eje real.\n",
    "\n",
    "### Función de transferencia genérica\n",
    "\n",
    "Considermos ahora una función de transferencia genérica dada por:\n",
    "\n",
    "\\begin{equation}\n",
    "F(z) =  K \\cdot \\frac{\\prod_{\\mu = 0}^{Q}(z - z_{0 \\mu})}{\\prod_{\\nu = 0}^{P}(z - z_{\\infty \\nu})}\n",
    "\\end{equation}\n",
    "\n",
    "<div class=\"alert alert-block alert-info\">\n",
    "Siguiendo el razonamiento anterior podemos establecer que:\n",
    "<ul>\n",
    "<li>$F(z_1)$ tiene una magnitud directamente proporcional a la multiplicación de los vectores cero e inversamente proporcional a multiplicación de los vectores polos.\n",
    "<li>$F(z_1)$ tiene una fase igual a la suma de los ángulos de los vectores cero menos la suma de los ángulos de los vectores polos.\n",
    "</ul>"
   ]
  },
  {
   "cell_type": "markdown",
   "metadata": {},
   "source": [
    "## Evaluación geométrica de la respuesta de frecuencia\n",
    "\n",
    "Cuando evaluamos la función de transferencia en $z = e^{i\\omega}$, estamos restringiendo el ámbito de evaluación al círculo unitario, es decir a la Transformada de Fourier (DTFT). Esto implica que el lugar geométrico de interés para aplicar la interpretación geométrica anteriormente descrita es el círculo unitario, tal como lo indica la siguiente animación.\n",
    "\n",
    "<img width=\"600\" src=\"images/PlanoZ-Im.gif\">\n",
    "\n",
    "### Filtros selectivos de frecuencia\n",
    "El posicionar polos y ceros en el plano-$z$ permite determinar curvas de respuesta de frecuencia específicas. Estas curvas implican que ciertas frecuencias se atenuarán mientras otras se enfatizarán. Por lo tanto una función de transferencia es básicamente un **filtro selectivo en frecuencia**, cuando se evalúa en el eje imaginario.\n",
    "\n",
    "En un filtro, el *orden* está determinado por el número máximo de polos o ceros que tenga la función de transferencia."
   ]
  },
  {
   "cell_type": "markdown",
   "metadata": {},
   "source": [
    "***\n",
    "### Ejemplo: Filtro pasa bajos de primer orden\n",
    "\n",
    "Veamos el caso de un filtro pasa bajos de primer orden con función de transferencia\n",
    "\n",
    "$$ F(z) = \\frac{1}{z+a} $$\n",
    "\n",
    "Lo que este filtro hace es enfatizar la frecuencia cero dependiendo del valor de $a$."
   ]
  },
  {
   "cell_type": "code",
   "execution_count": 33,
   "metadata": {},
   "outputs": [
    {
     "data": {
      "image/png": "[encoded data removed]",
      "text/plain": [
       "<Figure size 432x288 with 2 Axes>"
      ]
     },
     "metadata": {
      "needs_background": "light"
     },
     "output_type": "display_data"
    }
   ],
   "source": [
    "%matplotlib inline\n",
    "import matplotlib.pyplot as plt\n",
    "from scipy import signal\n",
    "import numpy as np\n",
    "\n",
    "b = np.array([1])\n",
    "a = np.array([1,-0.8])\n",
    "\n",
    "t = np.linspace(0, 1.0, 2001)\n",
    "xlow = np.sin(2 * np.pi * 5 * t)\n",
    "xhigh = np.sin(2 * np.pi * 25 * t)\n",
    "x = xlow + xhigh\n",
    "\n",
    "\n",
    "y = signal.filtfilt(b, a, x, padlen=150)\n",
    "\n",
    "\n",
    "plt.subplot(211)\n",
    "plt.plot(x)\n",
    "\n",
    "plt.subplot(212)\n",
    "plt.plot(np.abs(y))\n",
    "plt.show()"
   ]
  },
  {
   "cell_type": "markdown",
   "metadata": {},
   "source": [
    "### Ejemplo: filtro pasa altos de primer orden\n",
    "\n",
    "Veamos el caso de un filtro pasa altos de primer orden con función de transferencia\n",
    "\n",
    "$$ F(z) = {z+a} $$\n",
    "\n",
    "Lo que este filtro hace es atenuar la frecuencia cero dependiendo del valor de $a$."
   ]
  },
  {
   "cell_type": "markdown",
   "metadata": {},
   "source": [
    "### Ejemplo: filtro rechaza banda de segundo orden \n",
    "\n",
    "Veamos el caso de un filtro pasa altos de segundo orden con función de transferencia\n",
    "\n",
    "$$ F(z) = (z+c)(z+\\bar{c}) $$\n",
    "\n",
    "con $c \\in \\mathbb{C}$. Lo que este filtro hace es atenuar la frecuencia más cercana a la posición de los polos determinados por $c$."
   ]
  },
  {
   "cell_type": "markdown",
   "metadata": {},
   "source": [
    "### Ejemplo: filtro pasa banda de segundo orden\n",
    "\n",
    "Veamos el caso de un filtro pasa banda de segundo orden con función de transferencia\n",
    "\n",
    "$$ F(z) = \\frac{1}{(z+c)(z+\\bar{c})} $$\n",
    "\n",
    "con $c \\in \\mathbb{C}$. Lo que este filtro hace es enfatizar la frecuencia más cercana a la posición de los polos determinados por $c$."
   ]
  },
  {
   "cell_type": "markdown",
   "metadata": {
    "nbsphinx": "hidden"
   },
   "source": [
    "<div class=\"alert alert-block alert-warning\">\n",
    "<b>Copyright</b><br>\n",
    "\n",
    "Estos apuntes están licenciados bajo la licencia <a href=\"https://creativecommons.org/licenses/by/4.0/\">Creative Commons Attribution 4.0</a>.<br>\n",
    "Como citar: <i>Rodrigo F. Cádiz, Apuntes de Señales y Sistemas.</i>\n",
    "</div>"
   ]
  }
 ],
 "metadata": {
  "kernelspec": {
   "display_name": "Python 3",
   "language": "python",
   "name": "python3"
  },
  "language_info": {
   "codemirror_mode": {
    "name": "ipython",
    "version": 3
   },
   "file_extension": ".py",
   "mimetype": "text/x-python",
   "name": "python",
   "nbconvert_exporter": "python",
   "pygments_lexer": "ipython3",
   "version": "3.7.3"
  },
  "nbTranslate": {
   "displayLangs": [
    "*"
   ],
   "hotkey": "alt-t",
   "langInMainMenu": true,
   "sourceLang": "en",
   "targetLang": "fr",
   "useGoogleTranslate": true
  }
 },
 "nbformat": 4,
 "nbformat_minor": 1
}
