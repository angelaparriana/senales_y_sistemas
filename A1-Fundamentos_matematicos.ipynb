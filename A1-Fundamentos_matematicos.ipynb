{
 "cells": [
  {
   "cell_type": "markdown",
   "metadata": {
    "nbsphinx": "hidden"
   },
   "source": [
    "# Apéndice 1: Fundamentos matemáticos\n",
    "<div class=\"alert alert-block alert-warning\">\n",
    "Este notebook es parte de una colección de apuntes para el curso IEE2103 Señales y Sistemas, <a href=\"http://https://www.ing.uc.cl/electrica/\">Departamento de Ingeniería Eléctrica</a>, <a href=\"http://www.uc.cl\">Pontificia Universidad Católica de Chile</a>.<br> Profesor: <a href=\"http://www.rodrigocadiz.com\">Rodrigo F. Cádiz</a><br>\n",
    "Consultas y comentarios: <a href=\"mailto:rcadiz@ing.puc.cl\">rcadiz@ing.puc.cl</a>\n",
    "\n",
    "</div>\n",
    "\n",
    "***"
   ]
  },
  {
   "cell_type": "markdown",
   "metadata": {},
   "source": [
    "***\n",
    "## Prerequisitos matemáticos del curso\n",
    "\n",
    "Este curso se basa sobre un conjunto de requisitos matemáticos que los estudiantes deben dominar antes de comprender los conceptos fundamentales del curso. A continuación se presentan algunos de los aspectos más relevantes de cálculo, ecuaciones diferenciales y álgebra lineal que son requisitos para este curso.\n"
   ]
  },
  {
   "cell_type": "markdown",
   "metadata": {},
   "source": [
    "### Integrales de Riemann y Lebesgue"
   ]
  },
  {
   "cell_type": "markdown",
   "metadata": {},
   "source": [
    "### Números complejos\n",
    "\n",
    "Un número complejo $z = x + i y$ tiene parte real $x$ e imaginaria $y$ en el plano cartesiano. El complejo conjugado, denotado por $\\bar{z}$ o $z^{\\ast}$ es  $x - i y$.\n",
    "\n",
    "En forma polar, este mismo número se puede escribir $z = r e^{i\\theta}$ con $r = \\sqrt{x^2 + y^2}$ y $\\theta = \\arctan(\\frac{y}{x})$."
   ]
  },
  {
   "cell_type": "markdown",
   "metadata": {},
   "source": [
    "***\n",
    "<a name=\"exponenciales_complejas\"></a>\n",
    "### Exponenciales complejas\n",
    "\n",
    "Una exponencial compleja en el tiempo $t$ se define mediante la formula\n",
    "\n",
    "$$\n",
    "x(t) = e^{s t} \n",
    "$$\n",
    "\n",
    "donde $s = \\sigma + i \\omega$ es una variable compleja y denota una frecuencia compleja $\\sigma, \\omega \\in \\mathbb{R}$. $i$ es el numero imaginario $(i^2=-1)$. Mediante la [fórmula de Euler](https://en.wikipedia.org/wiki/Euler's_formula) la ecuación anterior se puede escribir como:\n",
    "\n",
    "$$\n",
    "x(t) = e^{(\\sigma + i \\omega) t} = e^{\\sigma t}e^{i \\omega t} = e^{\\sigma t} \\cos(\\omega t) + i e^{\\sigma t} \\sin(\\omega t)\n",
    "$$\n",
    "\n",
    "Las partes real e imaginaria de esta señal se obtienen mediante cosenos y senos con frecuencia angular $\\omega = 2 \\pi f$. Para $t>0$, la variable $e^{\\sigma t}$ es\n",
    "\n",
    "* exponencialmente decayente para $\\sigma < 0$,\n",
    "* constante e igual a 1 para $\\sigma = 0$,\n",
    "* exponencialmente creciente para $\\sigma > 0$,\n",
    "\n",
    "y vice-versa para $t<0$. "
   ]
  },
  {
   "cell_type": "markdown",
   "metadata": {},
   "source": [
    "## Series geométricas\n",
    "\n",
    "La serie geométrica \n",
    "\n",
    "$$ \\sum_{n=0}^{N} r^{n} = \\frac{1 - r^{N+1}}{1 - r} $$\n",
    "\n",
    "$$ \\sum_{n=M}^{N} r^{n} = \\frac{r^{M}(1 - r^{N-M+1})}{1 - r} $$\n",
    "\n"
   ]
  },
  {
   "cell_type": "markdown",
   "metadata": {},
   "source": [
    "## Ecuaciones diferenciales\n",
    "\n",
    "Una ecuación diferencial con coeficientes constantes de primer orden esta dada por:\n",
    "\n",
    "$$ y'(t) + ay(t) = x(t) $$\n",
    "\n",
    "La solución a esta ecuación está compuesta de una solución homogénea y una particular. La solución homogénea está dada por la raíz de la ecuación característica\n",
    "\n",
    "$$ \\lambda + a = 0 $$\n",
    "\n",
    "$$ y_h(t) = e^{\\lambda t} = e^{-a t} $$\n",
    "\n",
    "La solución particular depende de la naturaleza de $x(t)$. Usualmente se asume una función de la forma \n",
    "\n",
    "$$y_p(t) = Ax(t)$$\n",
    "\n",
    "tal que \n",
    "\n",
    "$$ y(t) = y_h(t) + y_p(t) $$\n",
    "\n",
    "Una ecuación diferencial con coeficientes constantes de segundo orden esta dada por:\n",
    "\n",
    "$$ y''(t) + ay'(t) + by(t) = x(t) $$\n",
    "\n",
    "La solución a esta ecuación está compuesta de una solución homogénea y una particular. La solución homogénea está dada por la raíces de la ecuación característica\n",
    "\n",
    "$$ \\lambda^2 + a\\lambda + b = 0 $$\n",
    "\n",
    "Como se trata de una ecuación de segundo orden, las raíces pueden ser reales o bien complejas conjugadas.\n",
    "\n",
    "\n"
   ]
  },
  {
   "cell_type": "markdown",
   "metadata": {},
   "source": [
    "## Ecuaciones de diferencias"
   ]
  },
  {
   "cell_type": "markdown",
   "metadata": {},
   "source": [
    "## Producto interno"
   ]
  },
  {
   "cell_type": "markdown",
   "metadata": {},
   "source": [
    "## Teorema de Fubini"
   ]
  },
  {
   "cell_type": "markdown",
   "metadata": {
    "nbsphinx": "hidden"
   },
   "source": [
    "<div class=\"alert alert-block alert-warning\">\n",
    "<b>Copyright</b><br>\n",
    "\n",
    "Estos apuntes están licenciados bajo la licencia <a href=\"https://creativecommons.org/licenses/by/4.0/\">Creative Commons Attribution 4.0</a>.<br>\n",
    "Como citar: <i>Rodrigo F. Cádiz, Apuntes de Señales y Sistemas.</i>\n",
    "</div>"
   ]
  }
 ],
 "metadata": {
  "kernelspec": {
   "display_name": "Python 3",
   "language": "python",
   "name": "python3"
  },
  "language_info": {
   "codemirror_mode": {
    "name": "ipython",
    "version": 3
   },
   "file_extension": ".py",
   "mimetype": "text/x-python",
   "name": "python",
   "nbconvert_exporter": "python",
   "pygments_lexer": "ipython3",
   "version": "3.7.3"
  },
  "nbTranslate": {
   "displayLangs": [
    "*"
   ],
   "hotkey": "alt-t",
   "langInMainMenu": true,
   "sourceLang": "en",
   "targetLang": "fr",
   "useGoogleTranslate": true
  }
 },
 "nbformat": 4,
 "nbformat_minor": 1
}
