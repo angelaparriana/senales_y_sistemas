{
 "cells": [
  {
   "cell_type": "markdown",
   "metadata": {
    "nbsphinx": "hidden"
   },
   "source": [
    "# Señales\n",
    "\n",
    "<div class=\"alert alert-block alert-warning\">\n",
    "Este Jupyter notebook es parte de una colección de apuntes para el curso IEE2103 Señales y Sistemas, Departamento de Ingeniería Eléctrica, Pontificia Universidad Católica de Chile. \n",
    "</div>\n",
    "\n",
    "Consultas y comentarios: [rcadiz@ing.puc.cl](mailto:rcadiz@ing.puc.cl)\n",
    "\n",
    "***"
   ]
  },
  {
   "cell_type": "markdown",
   "metadata": {},
   "source": [
    "## Concepto de señal\n",
    "\n",
    "- Contiene información\n",
    "- Función de una variable independiente (x,t)\n",
    "- La forma en que evoluciona en la variable independiente codifica la información\n"
   ]
  },
  {
   "cell_type": "markdown",
   "metadata": {},
   "source": [
    "**Ejemplos:**\n",
    "\n",
    "- Voltaje o corriente en un circuito electrónico\n",
    "- Voz o música\n",
    "- Imágenes\n",
    "- Señales bioeléctricas (EEG)\n",
    "- Variación de la bolsa (IPSA)"
   ]
  },
  {
   "cell_type": "markdown",
   "metadata": {},
   "source": [
    "### Tipos de señales\n",
    "\n",
    "Las señales pueden clasificarse de varias formas:\n",
    "- Continuas vs discretas\n",
    "- De energía o de potencia\n",
    "\n"
   ]
  },
  {
   "cell_type": "markdown",
   "metadata": {},
   "source": [
    "**Ejemplo**\n",
    "\n",
    "En el siguiente código se pueden observar dos señales, una discreta y otra continua, que tienen la misma forma. Sin embargo, mientras la versión continua posee un valor para cada valor de la variable independiente, la señal discreta sólo está definida en ciertos lugares de la variable independiente. Las funciones son\n",
    "\n",
    "- $x[n] = (1/2)^n$\n",
    "- $x(t) = (1/2)^t$"
   ]
  },
  {
   "cell_type": "code",
   "execution_count": 27,
   "metadata": {},
   "outputs": [
    {
     "data": {
      "image/png": "[encoded data removed]",
      "text/plain": [
       "<Figure size 720x288 with 2 Axes>"
      ]
     },
     "metadata": {
      "needs_background": "light"
     },
     "output_type": "display_data"
    }
   ],
   "source": [
    "# Ejemplo de señales continuas y discretas\n",
    "import numpy as np\n",
    "import matplotlib.pyplot as plt\n",
    "%matplotlib inline\n",
    "\n",
    "n = np.arange(10)\n",
    "t = np.linspace(0,10,100)\n",
    "\n",
    "def continuous_signal(a,t):\n",
    "    return np.power(a,t)\n",
    "\n",
    "def discrete_signal(a,n):\n",
    "    return np.power(a,n)\n",
    "\n",
    "plt.figure(figsize=(10, 4))\n",
    "plt.subplot(121)\n",
    "plt.plot(t, continuous_signal(0.5,t))\n",
    "plt.xlabel('$t$')\n",
    "plt.ylabel('Señal continua')\n",
    "plt.title('$x(t) = (1/2)^t$')\n",
    "\n",
    "plt.subplot(122)\n",
    "plt.stem(n, discrete_signal(0.5,n))\n",
    "plt.xlabel('$n$')\n",
    "plt.ylabel('Señal discreta')\n",
    "plt.title('$x[n] = (1/2)^n$')\n",
    "\n",
    "plt.tight_layout()\n",
    "    "
   ]
  },
  {
   "cell_type": "markdown",
   "metadata": {},
   "source": [
    "Algo más pasa con los sistemas."
   ]
  },
  {
   "cell_type": "code",
   "execution_count": null,
   "metadata": {},
   "outputs": [],
   "source": []
  },
  {
   "cell_type": "markdown",
   "metadata": {},
   "source": [
    "### Linealidad\n",
    "\n",
    "\n",
    "La linealidad blabla "
   ]
  },
  {
   "cell_type": "markdown",
   "metadata": {},
   "source": [
    "**Ejemplo**\n",
    "\n"
   ]
  },
  {
   "cell_type": "code",
   "execution_count": null,
   "metadata": {},
   "outputs": [],
   "source": []
  },
  {
   "cell_type": "markdown",
   "metadata": {},
   "source": [
    "### Invarianza\n",
    "\n",
    "La invarianza, blabla"
   ]
  },
  {
   "cell_type": "markdown",
   "metadata": {},
   "source": [
    "### Memoria\n",
    "\n",
    "Memoria blabla\n"
   ]
  },
  {
   "cell_type": "markdown",
   "metadata": {
    "nbsphinx": "hidden"
   },
   "source": [
    "**Copyright**\n",
    "\n",
    "Estos apuntes están licensiados bajo la licencia [Creative Commons Attribution 4.0](https://creativecommons.org/licenses/by/4.0/). Como citar: *Rodrigo F. Cádiz, Apuntes de Señales y Sistemas.*"
   ]
  },
  {
   "cell_type": "code",
   "execution_count": null,
   "metadata": {},
   "outputs": [],
   "source": []
  }
 ],
 "metadata": {
  "kernelspec": {
   "display_name": "Python 3",
   "language": "python",
   "name": "python3"
  },
  "language_info": {
   "codemirror_mode": {
    "name": "ipython",
    "version": 3
   },
   "file_extension": ".py",
   "mimetype": "text/x-python",
   "name": "python",
   "nbconvert_exporter": "python",
   "pygments_lexer": "ipython3",
   "version": "3.7.3"
  }
 },
 "nbformat": 4,
 "nbformat_minor": 1
}
