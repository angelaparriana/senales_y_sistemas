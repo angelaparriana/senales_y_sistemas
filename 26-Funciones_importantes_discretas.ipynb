{
 "cells": [
  {
   "cell_type": "markdown",
   "metadata": {
    "nbsphinx": "hidden"
   },
   "source": [
    "# Funciones importantes discretas\n",
    "\n",
    "<div class=\"alert alert-block alert-warning\">\n",
    "Este notebook es parte de una colección de apuntes para el curso IEE2103 Señales y Sistemas, <a href=\"http://https://www.ing.uc.cl/electrica/\">Departamento de Ingeniería Eléctrica</a>, <a href=\"http://www.uc.cl\">Pontificia Universidad Católica de Chile</a>.<br> Profesor: <a href=\"http://www.rodrigocadiz.com\">Rodrigo F. Cádiz</a><br>\n",
    "Consultas y comentarios: <a href=\"mailto:rcadiz@ing.puc.cl\">rcadiz@ing.puc.cl</a>\n",
    "\n",
    "</div>\n",
    "\n",
    "***"
   ]
  },
  {
   "cell_type": "markdown",
   "metadata": {},
   "source": [
    "## Señales típicas\n",
    "\n",
    "Algunas [señales](https://en.wikipedia.org/wiki/Signal_%28electrical_engineering%29) discretas juegan un rol muy importante en la teoría y aplicaciones prácticas.\n"
   ]
  },
  {
   "cell_type": "markdown",
   "metadata": {},
   "source": [
    "***\n",
    "### Sinusoides discretas\n",
    "\n",
    "Uno de los clásicos ejemplos de una señal discreta es una sinusoide. Sin embargo, a diferencia de su [contraparte continua](./03-Funciones_importantes.ipynb#sinusoides), no todas la sinusoides discretas son periódicas.\n",
    "\n",
    "La sinusoide discreta se describe por\n",
    "\n",
    "$$ x[n] = A\\cos[\\omega n + \\phi] $$ \n",
    "\n",
    "si se utiliza una variable de frecuencia $\\omega$ en radianes. $A$ es la amplitud y $\\phi$ la fase. En cambio si se prefiere una frecuencia $u$ en Hertz, entonces\n",
    "\n",
    "$$ x[n] = A\\cos[2\\pi u n + \\phi] $$\n",
    "\n",
    "Sabemos que la sinusoides son periódicas en $2\\pi$, es decir:\n",
    "\n",
    "$$ A\\cos[\\omega n + \\phi] = A\\cos[\\omega n + 2\\pi k + \\phi] $$\n",
    "\n",
    "donde $k \\in \\mathbb{Z}$. \n",
    "\n",
    "#### Periocididad en las muestras\n",
    "\n",
    "Supongamos que una sinusoide discreta es períodica de periódo $N$, con $N \\in \\mathbb{Z}$, es decir se repite exactamente cada $N$ muestras. Entonces, se debe cumplir que:\n",
    "\n",
    "$$ A\\cos[\\omega (n+N) + \\phi] = A\\cos[\\omega n + 2\\pi k + \\phi] $$\n",
    "\n",
    "$$ A\\cos[\\omega n + \\omega N + \\phi] = A\\cos[\\omega n + 2\\pi k + \\phi] $$\n",
    "\n",
    "lo que implica que \n",
    "\n",
    "$$ \\omega N  = 2 \\pi k $$\n",
    "\n",
    "o bien\n",
    "\n",
    "$$ \\omega = 2 \\pi \\frac{k}{N} $$\n",
    "\n",
    "Es decir, la frecuencia angular en radianes tiene que ser un múltiplo racional de $\\pi$. $\\frac{k}{N}$ debe ser un número racional, dado que $k,n \\in \\mathbb{Z}$\n",
    "\n",
    "Esto implica que una sinusoide es periódica en las muestras sólo para ciertos valores de la frecuencia $\\omega$, aquellos que son múltiplos racionales de $\\pi$. \n",
    "\n",
    "#### Periodicidad en la frecuencia\n",
    "\n",
    "Supongamos ahora que evaluamos una sinusoide discreta en una frecuencia $\\omega + 2 \\pi k$, con $k \\in \\mathbb{Z}$. Entonces,\n",
    "\n",
    "$$ A\\cos[(\\omega + 2 \\pi k) n + \\phi] = A\\cos[\\omega n + 2 \\pi k n + \\phi] $$\n",
    "\n",
    "Dado que $ k n 2\\pi $ es siempre un múltiplo entero de $ 2 \\pi $, entonces \n",
    "\n",
    "$$ A\\cos[\\omega n + 2 \\pi k n + \\phi] = A\\cos[\\omega n + \\phi] $$\n",
    "\n",
    "lo que implica que una sinusoide discreta también es periódica en frecuencia, con período $2 \\pi $.\n",
    "\n",
    "El resultado anterior es evidente si se considera que una sinusoide discreta es una versión muestreada de una sinusoide continua. Como está muestreada, necesariamente su espectro de frecuencias es periódico. Por lo tanto, una sinusoide discreta es periódica en frecuencia.\n",
    "\n",
    "#### Tasa de oscilación de una sinusoide discreta\n",
    "El resultado anterior implica que una sinusoide discreta incrementará su tasa de oscilación a medida que $\\omega$ aumenta a partir de cero, pero sólo hasta un cierto límite, cuando $\\omega = \\pi$. En el intervalo [$\\pi,2\\pi$], la tasa de oscilación decrece a medida que $\\omega$ crece desde $\\pi$ a $2\\pi$. Desde el punto de vista del muestreo, esto sucede por que las réplicas del espectro que están fuera del rango $[-\\pi,\\pi]$ se traslapan o alían cuando se traspasa la frecuencia de Nyquist $\\omega = \\pi$\n",
    "\n",
    "Este resultado se puede comprobar en el siguiente código:"
   ]
  },
  {
   "cell_type": "code",
   "execution_count": 1,
   "metadata": {},
   "outputs": [
    {
     "data": {
      "application/vnd.jupyter.widget-view+json": {
       "model_id": "f524b75ebcea4931afc53ae6277e88b4",
       "version_major": 2,
       "version_minor": 0
      },
      "text/plain": [
       "interactive(children=(FloatSlider(value=0.0, description='omega', max=2.0), Output()), _dom_classes=('widget-i…"
      ]
     },
     "metadata": {},
     "output_type": "display_data"
    },
    {
     "data": {
      "text/plain": [
       "<function __main__.plot_func(omega)>"
      ]
     },
     "execution_count": 1,
     "metadata": {},
     "output_type": "execute_result"
    }
   ],
   "source": [
    "from ipywidgets import interact, interactive, fixed, interact_manual\n",
    "import ipywidgets as widgets\n",
    "\n",
    "import matplotlib.pyplot as plt\n",
    "%matplotlib inline\n",
    "\n",
    "import numpy as np\n",
    "\n",
    "def plot_func(omega):\n",
    "    n = np.arange(20)\n",
    "    y = np.cos(omega * np.pi * n) \n",
    "    t = \"cos[%.1f $\\pi$ n]\" %(omega)\n",
    "    plt.title(t)\n",
    "    plt.stem(n, y)\n",
    "    plt.xlim(0, 1)\n",
    "    plt.ylim(-1, 1)    \n",
    "    plt.xlabel('n')\n",
    "    plt.xticks([0,20],['$0$','$20$'])\n",
    "    plt.yticks([-1.2,0,1.2],['$-1.2$','$0$','$1.2$'])\n",
    "    plt.show()\n",
    "    \n",
    "slider_period = widgets.FloatSlider(value=0,min=0,max=2\n",
    "                                    ,step=0.1)   \n",
    "\n",
    "interact(plot_func, omega=slider_period)"
   ]
  },
  {
   "cell_type": "markdown",
   "metadata": {},
   "source": [
    "***\n",
    "<a name=\"exponencial_compleja\"></a>\n",
    "### Exponencial compleja\n",
    "\n",
    "La señal exponencial compleja \n",
    "\n",
    "$$ x[n] = z^{n} $$\n",
    "\n",
    "se define mediante la [función exponencial compleja](https://en.wikipedia.org/wiki/Exponential_function#Complex_plane) donde $z = e^{\\sigma + i \\omega}$ denota la frecuencia compleja $z \\in \\mathbb{C}$ con $\\sigma, \\omega \\in \\mathbb{R}$. Esta señal se relaciona con la [señal exponencial compleja continua](./03-Funciones_importantes.ipynb#exponencial_compleja) $x(t) = e^{(\\sigma + i \\omega) t}$ que ha sido muestrada con un período de muestreo $T$:\n",
    "\n",
    "\\begin{equation}\n",
    "x[n] = x(n T) = e^{(\\sigma + i \\omega) n T} = e^{( \\sigma T + i \\omega T ) n}\n",
    "\\end{equation}\n",
    "\n",
    "Notamos de las variables de la frecuencia compleja se han transformado en $\\sigma T$ y $\\omega T$. Al estar multiplicada por el período de muestreo, la frecuencia angular $\\omega está dividida por la frecuencia de muestreo, por lo que se conoce como *frecuencia normalizada*. Mediante la [formula de Euler](https://en.wikipedia.org/wiki/Euler's_formula), esta definición se puede reformular como:\n",
    "\n",
    "\\begin{equation}\n",
    "x[n] = e^{\\sigma n} \\cos[\\omega n] + i e^{\\sigma k} \\sin[\\omega n]\n",
    "\\end{equation}\n",
    "\n",
    "Las partes real a imaginaria de la señal exponencial están dadas por una ponderación de cosenos y senos discretos con frecuencia normalizada $\\omega T$. Esta frecuencia normalizada es ambigua dada la periodicidad de las funciones coseno y seno para la variable discreta $k$. Por ejemplo:\n",
    "\n",
    "\\begin{equation}\n",
    "\\cos[\\omega T n] = \\cos[(\\omega T + \\kappa \\cdot 2 \\pi) \\cdot n]\n",
    "\\end{equation}\n",
    "\n",
    "con $ \\kappa \\in \\mathbb{Z}$. Se puede concluir que la frecuencia normalizada $\\omega T$ es única para $-\\pi < \\omega T < \\pi$, tal como fue discutido anteriormente para el caso de la sinusoide. La frecuencia normalizada $\\omega T = \\pm \\pi$ representa la frecuencia normalizada más alta que una señal muestreada puede contener.\n",
    "\n",
    "La función exponencial compleja es periódica solo con respecto al índice discreto $n$, si\n",
    "\n",
    "\\begin{equation}\n",
    "x[n] = x[n + \\kappa \\cdot N]\n",
    "\\end{equation}\n",
    "\n",
    "se cumple para $\\kappa \\in \\mathbb{Z}$ y $N \\in \\mathbb{N}$. Esta periodicidad de la función exponencial compleja está dada por \n",
    "\n",
    "\\begin{equation}\n",
    "N = \\frac{2 \\pi}{\\omega T}\n",
    "\\end{equation}\n",
    "\n",
    "Se puede deducir entoncer que el requerimiento $N \\in \\mathbb{N}$ para una secuencia periódica, que no todas las frecuencias normalizadas $\\omega T$ resultan en una señal exponencial compleja discreta periódica. Solo $\\omega T = \\frac{2 \\pi}{N}$ con $N \\in \\mathbb{N}$ es periódica de período $N$. \n",
    "\n",
    "\n",
    "El muestreo de una señal exponecial compleja continua puede resultar en una secuencia discreta aperiódica.\n",
    "\n",
    "La exponencial compleja se puede expresar en término de su magnitud y fase\n",
    "\n",
    "\\begin{equation}\n",
    "x[n] = z^n = |z|^n \\cdot e^{i \\varphi(z) n}\n",
    "\\end{equation}\n",
    "\n",
    "donde $|z| = |e^\\sigma T|$ and $\\varphi(z) = \\omega T$. Esto permite interpretar la frecuencia compleja $z$. Su fase $\\varphi(z)$ es igual a la frecuencia normalizada $\\omega T$ de su parte armónica $e^{i \\omega T n}$. Esto está multiplicado por la magnitud $|z|^n$. A medida que el índice $n >0$ se incrementa, la magnitud de la exponencial compleja es:\n",
    "\n",
    "* exponencialmente decayente para $|z| < 1$ ($\\sigma < 0$)\n",
    "* constante e igual a 1 para  $|z| = 1$ ($\\sigma = 0$)\n",
    "* exponencialmente creciente para $|z| > 1$ ($\\sigma > 0$)."
   ]
  },
  {
   "cell_type": "markdown",
   "metadata": {},
   "source": [
    "**Ejemplo:**\n",
    "\n",
    "Este ejemplo ilustra la exponencial compleja y sus parámetros. Primero definimos la señal exponencial compleja. Y mostramos los primeros 10 valores para $\\sigma = 0.025$ y $\\omega = 0.5$."
   ]
  },
  {
   "cell_type": "code",
   "execution_count": 3,
   "metadata": {},
   "outputs": [
    {
     "data": {
      "text/plain": [
       "array([ 1.        +0.j        ,  0.89979867+0.49156225j,\n",
       "        0.5680042 +0.88461412j,  0.07624651+1.07518404j,\n",
       "       -0.45991338+1.00492907j, -0.90781465+0.67815778j,\n",
       "       -1.15020718+0.16395806j, -1.11555049-0.41786919j,\n",
       "       -0.79836212-0.92436066j, -0.26398437-1.22418317j])"
      ]
     },
     "execution_count": 3,
     "metadata": {},
     "output_type": "execute_result"
    }
   ],
   "source": [
    "import numpy as np\n",
    "import matplotlib.pyplot as plt\n",
    "%matplotlib inline\n",
    "\n",
    "\n",
    "def exponential_signal(n, sigma, omega):\n",
    "    return np.exp((sigma + 1j * omega) * n)\n",
    "\n",
    "\n",
    "def plot_signal(k, x):\n",
    "    plt.figure(figsize=(10, 4))\n",
    "    plt.subplot(121)\n",
    "    plt.stem(k, np.real(x))\n",
    "    plt.xlabel('$k$')\n",
    "    plt.ylabel(r'$\\Re \\{ x[k] \\}$')\n",
    "\n",
    "    plt.subplot(122)\n",
    "    plt.stem(k, np.imag(x))\n",
    "    plt.xlabel('$k$')\n",
    "    plt.ylabel(r'$\\Im \\{ x[k] \\}$')\n",
    "    plt.tight_layout()\n",
    "    \n",
    "n = np.arange(31)\n",
    "x = exponential_signal(n, 0.025, 0.5)\n",
    "x[:10]"
   ]
  },
  {
   "cell_type": "markdown",
   "metadata": {},
   "source": [
    "Ahora graficamos la señal, con su parte real a la izquierda e imaginaria a la derecha."
   ]
  },
  {
   "cell_type": "code",
   "execution_count": 4,
   "metadata": {},
   "outputs": [
    {
     "data": {
      "image/png": "[encoded data removed]",
      "text/plain": [
       "<Figure size 720x288 with 2 Axes>"
      ]
     },
     "metadata": {
      "needs_background": "light"
     },
     "output_type": "display_data"
    }
   ],
   "source": [
    "plot_signal(n, x)"
   ]
  },
  {
   "cell_type": "markdown",
   "metadata": {},
   "source": [
    "Ahora el caso de una exponencial armónica aperiódica con $N \\notin \\mathbb{N}$ se muestra para $\\sigma = 0$. "
   ]
  },
  {
   "cell_type": "code",
   "execution_count": 6,
   "metadata": {},
   "outputs": [
    {
     "data": {
      "image/png": "[encoded data removed]",
      "text/plain": [
       "<Figure size 720x288 with 2 Axes>"
      ]
     },
     "metadata": {
      "needs_background": "light"
     },
     "output_type": "display_data"
    }
   ],
   "source": [
    "Np = 20.55\n",
    "x = exponential_signal(n, 0, 2 * np.pi / Np)\n",
    "plot_signal(n, x)"
   ]
  },
  {
   "cell_type": "markdown",
   "metadata": {},
   "source": [
    "***\n",
    "### El Impulso de Dirac discreto\n",
    "\n",
    "El impulso de Dirac discreto $\\delta[n]$ no se puede derivar mediante el muestreo de su [contraparte continua](./03-Funciones_importantes.ipynb#impulso), dado que la [distribución delta de Dirac](https://en.wikipedia.org/wiki/Dirac_delta_function) no es una función en el sentido convencional. El impulso discreto se define como:\n",
    "\n",
    "\\begin{equation}\n",
    "\\delta[n] = \\begin{cases}\n",
    "1 & \\text{for } n = 0 \\\\\n",
    "0 & \\text{otro caso}\n",
    "\\end{cases}\n",
    "\\end{equation}\n",
    "\n",
    "Esta función también se conoce como el [*delta de Kronecker*](https://en.wikipedia.org/wiki/Kronecker_delta), y la señal como la *secuencia impulso* o el *impulso unitario*. $\\delta[n]$ maintiene las propiedades esenciales de su contraparte continua $\\delta$. En particular\n",
    "\n",
    "1. **Propiedad del cedazo**\n",
    "    \\begin{equation}\n",
    "    \\sum_{\\kappa = -\\infty}^{\\infty} x[\\kappa] \\cdot \\delta[n - \\kappa] = x[n]\n",
    "    \\end{equation}\n",
    "    Esta propiedad implica \n",
    "    $$\\sum_{\\kappa = -\\infty}^{\\infty} x[\\kappa] = 1$$\n",
    "    \n",
    "2. **Multiplicación**\n",
    "    \\begin{equation}\n",
    "    x[n] \\cdot \\delta[n - \\kappa] = x[\\kappa] \\cdot \\delta[n - \\kappa]\n",
    "    \\end{equation}\n",
    "    \n",
    "3. **Linearidad**\n",
    "    \\begin{equation}\n",
    "    a \\cdot \\delta[n] + b \\cdot \\delta[n] = (a+b) \\cdot \\delta[n]\n",
    "    \\end{equation}\n",
    "\n",
    "El impulso discreto de Dirac es una señal fundamental en la teoría de las señales y sistemas. Se utiliza por ejemplo en la caracterización de los sistemas LTI mediante su respuesta al impulso.\n",
    "\n",
    "**Ejemplo**\n",
    "\n",
    "Las propiedades del impulso discreto se muestran a continuación. Primero definimos una función para el impulso y la graficamos:"
   ]
  },
  {
   "cell_type": "code",
   "execution_count": 10,
   "metadata": {},
   "outputs": [
    {
     "data": {
      "image/png": "[encoded data removed]",
      "text/plain": [
       "<Figure size 432x288 with 1 Axes>"
      ]
     },
     "metadata": {
      "needs_background": "light"
     },
     "output_type": "display_data"
    }
   ],
   "source": [
    "def dirac(n):\n",
    "    return np.where(n == 0, 1.0, 0.0)\n",
    "\n",
    "\n",
    "n = np.arange(-10, 11)\n",
    "x = dirac(n)\n",
    "plt.stem(n, x)\n",
    "plt.xlabel('$n$')\n",
    "plt.ylabel('$\\delta[n]$')\n",
    "plt.ylim([-0.1, 1.1])\n",
    "plt.show()"
   ]
  },
  {
   "cell_type": "markdown",
   "metadata": {},
   "source": [
    "Veamos ahora la propiedad de la multiplicación definiendo una señal coseno $y[n] = \\cos[n]$ y calculando la señal $w[n] = y[n] \\cdot \\delta[n-6]$"
   ]
  },
  {
   "cell_type": "code",
   "execution_count": 11,
   "metadata": {},
   "outputs": [
    {
     "data": {
      "image/png": "[encoded data removed]",
      "text/plain": [
       "<Figure size 720x288 with 2 Axes>"
      ]
     },
     "metadata": {
      "needs_background": "light"
     },
     "output_type": "display_data"
    }
   ],
   "source": [
    "x = dirac(n - 6)\n",
    "y = np.cos(n)\n",
    "w = x*y\n",
    "\n",
    "plt.figure(figsize=(10, 4))\n",
    "plt.subplot(121)\n",
    "plt.stem(n, y)\n",
    "plt.xlabel('$n$')\n",
    "plt.ylabel(r'$\\cos[\\omega n]$')\n",
    "plt.ylim([-1.1, 1.1])\n",
    "\n",
    "plt.subplot(122)\n",
    "plt.stem(n, w)\n",
    "plt.xlabel('$n$')\n",
    "plt.ylabel('$\\cos[\\omega n] \\cdot \\delta[n - \\kappa]$')\n",
    "plt.ylim([-1.1, 1.1])\n",
    "plt.tight_layout()"
   ]
  },
  {
   "cell_type": "markdown",
   "metadata": {},
   "source": [
    "***\n",
    "### Escalón discreto de Heaviside\n",
    "\n",
    "La señal escalón discreto $u[n]$ se puede derivar del [escalón de Heaviside continuo](./03-Funciones_importantes.ipynb#escalon) como\n",
    "\n",
    "\\begin{equation}\n",
    "\\mbox{|‾[n]} = u[n] = \\begin{cases} 1 & n \\geq 0 \\\\  0 & n < 0 \\end{cases}\n",
    "\\end{equation}\n",
    "\n",
    "Esta señal se puede utilizar para representar una señal que se enciende en un tiempo específico y se mantiene encendida en forma indefinida. Su relación con el impulso es:\n",
    "\n",
    "\\begin{equation}\n",
    "u[n] = \\sum_{\\kappa = -\\infty}^{n} \\delta[\\kappa]\n",
    "\\end{equation}\n",
    "\n",
    "El impulso discreto también se puede expresar en términos del escalón de Heaviside:\n",
    "\n",
    "\\begin{equation}\n",
    "\\delta[n] = u[n] - u[n-1]\n",
    "\\end{equation}\n",
    "\n",
    "**Ejemplo**\n",
    "\n",
    "En el siguiente ejemplo, una función se define para el escalón de Heaviside $\\epsilon[n]$ y la señal se grafica."
   ]
  },
  {
   "cell_type": "code",
   "execution_count": 14,
   "metadata": {},
   "outputs": [
    {
     "data": {
      "image/png": "[encoded data removed]",
      "text/plain": [
       "<Figure size 432x288 with 1 Axes>"
      ]
     },
     "metadata": {
      "needs_background": "light"
     },
     "output_type": "display_data"
    }
   ],
   "source": [
    "def heaviside(n):\n",
    "    return np.where(n >= 0, 1.0, 0.0)\n",
    "\n",
    "n = np.arange(-5, 20)\n",
    "x = heaviside(n)\n",
    "\n",
    "plt.stem(n, x)\n",
    "plt.xlabel('$n$')\n",
    "plt.ylabel('$u[n]$')\n",
    "plt.ylim([-0.1, 1.1])\n",
    "plt.show()"
   ]
  },
  {
   "cell_type": "markdown",
   "metadata": {},
   "source": [
    "***\n",
    "### Rect discreto\n",
    "\n",
    "La señal discreta rectangular se define como \n",
    "\n",
    "\\begin{equation}\n",
    "\\sqcap_N[n] = \\begin{cases} 1 & \\text{para } 0 \\leq n < N \\\\ 0 & \\text{otro caso}  \\end{cases}\n",
    "\\end{equation}\n",
    "\n",
    "donde $N \\in \\mathbb{N}$ denota el número de muestras distintas de cero. Es importante notar que la señal rectangular discreta no tiene simetría par como su [contraparte continua](./03-Funciones_importantes.ipynb#rect). Esta señal se utiliza para representar señales que son distintas de cero por un número límitado de muestras. Esta señal se relaciona con el escalón mediante la ecuación\n",
    "\n",
    "\\begin{equation}\n",
    "\\sqcap_N[n] = u[n] - u[n - N]\n",
    "\\end{equation}\n",
    "\n",
    "**Ejemplo**\n",
    "\n",
    "Definimos la función $\\sqcap_{10}[n]$ y la graficamos:"
   ]
  },
  {
   "cell_type": "code",
   "execution_count": 18,
   "metadata": {},
   "outputs": [
    {
     "data": {
      "image/png": "[encoded data removed]",
      "text/plain": [
       "<Figure size 432x288 with 1 Axes>"
      ]
     },
     "metadata": {
      "needs_background": "light"
     },
     "output_type": "display_data"
    }
   ],
   "source": [
    "def rect(n, N):\n",
    "    return np.where((0 <= n) & (n < N), 1.0, 0.0)\n",
    "\n",
    "\n",
    "n = np.arange(-5, 20)\n",
    "x = rect(n, 10)\n",
    "\n",
    "plt.stem(n, x)\n",
    "plt.xlabel('$n$')\n",
    "plt.ylabel('$\\sqcap_{10}[n]$')\n",
    "plt.ylim([-0.1, 1.1])\n",
    "plt.show()"
   ]
  },
  {
   "cell_type": "markdown",
   "metadata": {},
   "source": [
    "***\n",
    "### Signo discreto\n",
    "\n",
    "La señal signo discreta se puede construir a partir de su [contraparte continua](./03-Funciones_importantes.ipynb#signo) as\n",
    "\n",
    "\\begin{equation}\n",
    "\\text{sgn}[n] = \\begin{cases} 1 & n>0 \\\\ 0 & n=0 \\\\ -1 & n < 0  \\end{cases}\n",
    "\\end{equation}\n",
    "\n",
    "Esta señal es útil para representar el valor absoluto de una señal $x[n]$ como\n",
    "\n",
    "\\begin{equation}\n",
    "|x[n]| = x[n] \\cdot \\text{sgn}(x[n])\n",
    "\\end{equation}\n",
    "\n",
    "Se relaciona con el escalón mediante\n",
    "\n",
    "\\begin{equation}\n",
    "\\text{sgn}[n] = u[n] - u[-n]\n",
    "\\end{equation}\n",
    "\n",
    "**Ejemplo**\n",
    "\n",
    "Definimos la función $\\text{sgn}[n]$ y la graficamos:"
   ]
  },
  {
   "cell_type": "code",
   "execution_count": 17,
   "metadata": {},
   "outputs": [
    {
     "data": {
      "image/png": "[encoded data removed]",
      "text/plain": [
       "<Figure size 432x288 with 1 Axes>"
      ]
     },
     "metadata": {
      "needs_background": "light"
     },
     "output_type": "display_data"
    }
   ],
   "source": [
    "n = np.arange(-10, 11)\n",
    "x = np.sign(n)\n",
    "\n",
    "plt.stem(n, x)\n",
    "plt.xlabel('$n$')\n",
    "plt.ylabel('$\\mathrm{sgn}[n]$')\n",
    "plt.ylim([-1.1, 1.1])\n",
    "plt.show()"
   ]
  },
  {
   "cell_type": "markdown",
   "metadata": {
    "nbsphinx": "hidden"
   },
   "source": [
    "<div class=\"alert alert-block alert-warning\">\n",
    "<b>Copyright</b><br>\n",
    "\n",
    "Estos apuntes están licenciados bajo la licencia <a href=\"https://creativecommons.org/licenses/by/4.0/\">Creative Commons Attribution 4.0</a>.<br>\n",
    "Como citar: <i>Rodrigo F. Cádiz, Apuntes de Señales y Sistemas.</i>\n",
    "</div>"
   ]
  }
 ],
 "metadata": {
  "kernelspec": {
   "display_name": "Python 3",
   "language": "python",
   "name": "python3"
  },
  "language_info": {
   "codemirror_mode": {
    "name": "ipython",
    "version": 3
   },
   "file_extension": ".py",
   "mimetype": "text/x-python",
   "name": "python",
   "nbconvert_exporter": "python",
   "pygments_lexer": "ipython3",
   "version": "3.7.4"
  },
  "nbTranslate": {
   "displayLangs": [
    "*"
   ],
   "hotkey": "alt-t",
   "langInMainMenu": true,
   "sourceLang": "en",
   "targetLang": "fr",
   "useGoogleTranslate": true
  },
  "nteract": {
   "version": "0.14.4"
  }
 },
 "nbformat": 4,
 "nbformat_minor": 1
}
