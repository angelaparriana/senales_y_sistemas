{
 "cells": [
  {
   "cell_type": "markdown",
   "metadata": {
    "nbsphinx": "hidden"
   },
   "source": [
    "# Sistemas\n",
    "\n",
    "<div class=\"alert alert-block alert-warning\">\n",
    "Este notebook es parte de una colección de apuntes para el curso IEE2103 Señales y Sistemas, <a href=\"http://https://www.ing.uc.cl/electrica/\">Departamento de Ingeniería Eléctrica</a>, <a href=\"http://www.uc.cl\">Pontificia Universidad Católica de Chile</a>.<br> Profesor: <a href=\"http://www.rodrigocadiz.com\">Rodrigo F. Cádiz</a><br>\n",
    "Consultas y comentarios: <a href=\"mailto:rcadiz@ing.puc.cl\">rcadiz@ing.puc.cl</a>\n",
    "\n",
    "</div>\n",
    "\n",
    "***"
   ]
  },
  {
   "cell_type": "markdown",
   "metadata": {},
   "source": [
    "## Concepto de sistema\n",
    "\n",
    "Un sistema puede concebirse como una colección de elementos que ejecutan una función e idealizarse como una caja negra, con entradas y salidas, tal como lo muestra la figura.\n",
    "<img src=\"images/sistema.png\">\n",
    "En este caso, la entrada se denota por la variable $x$, la salida por $y$ y el sistema mediante $\\mathcal{L}\\{\\cdot\\}$.\n",
    "\n",
    "Un sistema se puede escribir matemáticamente como:\n",
    "\n",
    "- $\\mathcal{L}\\{x(t))\\} = y(t)$\n",
    "\n",
    "o bien\n",
    "\n",
    "- $x(t) \\rightarrow y(t)$\n",
    "\n",
    "en el caso continuo. En el caso discreto, utilizaremos la siguiente notación:\n",
    "\n",
    "- $\\mathcal{L}\\{x[n]\\} = y[n]$\n",
    "\n",
    "o bien\n",
    "\n",
    "- $x[n] \\rightarrow y[n]$\n",
    "\n",
    "\n",
    "\n",
    "Al modelar sistemas en forma matemática, las entradas y salidas (señales) son funciones o distribuciones mientras que los sistemas son funciones de funciones, funciones compuestas, transformadas u operadores.\n",
    "\n",
    "**Ejemplos de sistemas**\n",
    "\n",
    "- Circuitos eléctricos\n",
    "- Un automóvil\n",
    "- Procesos químicos\n",
    "- Una máquina electromecánica\n",
    "- La economía de un país\n",
    "- La bolsa de comercio\n",
    "- Procesos biológicos\n",
    "\n",
    "\n",
    "**Ejemplo: Circuito Eléctrico**\n",
    "<img width=\"500\" src=\"images/circuitoRLC.png\">"
   ]
  },
  {
   "cell_type": "markdown",
   "metadata": {},
   "source": [
    "### Sistemas continuos vs discretos\n",
    "\n",
    "Los sistemas pueden clasificarse en dos grandes grupos:\n",
    "\n",
    "- Sistemas de variable contínua\n",
    "    - Operan sobre señales contínuas\n",
    "    - Comúnmente se encuentran en el mundo físico\n",
    "    - Se representan mediante ecuaciones diferenciales\n",
    "    - Los parámetros del sistema se definen en un continuo de la variable independiente\n",
    "\n",
    "\n",
    "- Sistemas de variable discreta\n",
    "    - Operan sobre señales discretas\n",
    "    - Ejemplo: algoritmo computacional\n",
    "    - Se representan por ecuaciones de diferencias\n",
    "    - Los parámetros del sistema se definen sólo en ciertos puntos de la variable independiente\n",
    "    \n",
    "- Sistemas hibridos\n",
    "    - En la práctica, muchos sistemas son híbridos\n",
    "    \n",
    "    \n",
    "**Ejemplo de un sistema híbrido**\n",
    "Sistema de retraso de audio en el computador.\n",
    "    \n",
    "***\n",
    "\n",
    "\n",
    "## Interconexión de sistemas\n",
    "\n",
    "Los sistemas se pueden interconectar en serie (cascada) o en paralelo, tal como lo muestra la figura:\n",
    "\n",
    "\n",
    "<img src=\"images/series-parallel.jpg\">"
   ]
  },
  {
   "cell_type": "markdown",
   "metadata": {},
   "source": [
    "## Propiedades de sistemas\n",
    "\n",
    "Los sistemas pueden tener las siguientes propiedades:\n",
    "\n",
    "- [Causalidad](#causalidad)\n",
    "- [Linealidad](#linealidad)\n",
    "- [Invariancia](#invariancia)\n",
    "- [Estabilidad](#estabilidad)\n",
    "- [Memoria](#memoria)\n",
    "- [Invertibilidad](#invertibilidad)\n",
    "\n",
    "***"
   ]
  },
  {
   "cell_type": "markdown",
   "metadata": {},
   "source": [
    "### Causalidad\n",
    "<a name=\"causalidad\"></a>\n",
    "\n",
    "El [principio de causalidad](https://en.wikipedia.org/wiki/Causality) estipula que un efecto proviene de una causa anterior. Por supuesto esto tiene mucho sentido en sistemas temporales, que operan en el tiempo, una variable que físicamente no se puede revertir. Pero un sistema no temporal puede perfectamente violar este principio, por ejemplo un filtro que se aplica a una imagen, donde el resultado del proceso puede depender de píxeles posicionados a la izquierda o a la derecha del filtro. Estos tipos de sistemas son no-causales.\n",
    "\n",
    "\n"
   ]
  },
  {
   "cell_type": "markdown",
   "metadata": {},
   "source": [
    "**Ejemplo**\n",
    "\n",
    "En la siguiente animación se muestra un ejemplo de un sistema no causal, donde la salida del sistema (el píxel que se forma en la imagen de arriba), depende de un grupo de píxeles de la imagen de entrada, arriba, abajo, a la izquierda y derecha del píxel central.\n",
    "<img src=\"images/sistema-no-causal.gif\">\n",
    "\n",
    "(Imagen obtenida de: Vincent Dumoulin, Francesco Visin - [A guide to convolution arithmetic for deep learning (BibTeX)](https://arxiv.org/abs/1603.07285))\n",
    "\n",
    "\n",
    "**Causalidad temporal:**\n",
    "Un sistema físico, que depende en el tiempo, es causal si su salida en cualquier tiempo depende sólo de los valores de la entrada en el momento presente y en el pasado.\n",
    "\n",
    "\n",
    "**Ejemplo: sistema causal**\n",
    "\n",
    "$ y(t) = \\int_{-\\infty}^{t} x^2(\\tau)d\\tau $\n",
    "\n",
    "**Ejemplo: sistema no causal**\n",
    "\n",
    "$ y[k] = \\Phi(x[k+1]) $\n",
    "\n",
    "***"
   ]
  },
  {
   "cell_type": "markdown",
   "metadata": {},
   "source": [
    "<a name=\"linealidad\"></a>\n",
    "### Linealidad\n",
    "\n",
    "\n",
    "La linealidad implica que se cumple con dos principios: el de homogeneidad y el de superposición. Matemáticamete, dado un sistema $\\mathcal{L}\\{ \\cdot \\}$ y una entrada $x(t)$, este es lineal si es que cumple con:\n",
    "\n",
    "- Homogeneidad: $\\mathcal{L}\\{\\alpha x(t)\\} = \\alpha \\mathcal{L}\\{x(t)\\}$\n",
    "- Superposición: $\\mathcal{L}\\{x_1(t)+x_2(t)\\} = \\mathcal{L}\\{x_1(t)\\} + \\mathcal{L}\\{x_2(t)\\} $"
   ]
  },
  {
   "cell_type": "markdown",
   "metadata": {},
   "source": [
    "**Ejemplo**\n",
    "\n"
   ]
  },
  {
   "cell_type": "code",
   "execution_count": null,
   "metadata": {},
   "outputs": [],
   "source": []
  },
  {
   "cell_type": "markdown",
   "metadata": {},
   "source": [
    "***\n",
    "<a name=\"invariancia\"></a>\n",
    "### Invariancia\n",
    "\n",
    "Un sistema es inviariante es uno que mantiene sus características cuando hay retrasos o adelantos en la variable independiente. Matemáticamente:\n",
    "\n",
    "Si \n",
    "\n",
    "$\\mathcal{L}\\{f(x)\\} = g(x)$\n",
    "\n",
    "entonces \n",
    "\n",
    "$\\mathcal{L}\\{f(x-\\xi)\\} = g(x-\\xi)$\n",
    "\n",
    "La cantidad $\\xi$ se conoce como desfase o retraso.\n",
    "\n",
    "**Invariancia en el tiempo**: Un sistema es invariante en el tiempo si el comportamiento y características del mismo están fijos en el tiempo.\n",
    "\n",
    "Si \n",
    "\n",
    "$\\mathcal{L}\\{x(t)\\} = y(t)$\n",
    "\n",
    "entonces \n",
    "\n",
    "$\\mathcal{L}\\{x(t-\\tau)\\} = y(t-\\tau)$\n",
    "\n",
    "***\n",
    "\n"
   ]
  },
  {
   "cell_type": "markdown",
   "metadata": {},
   "source": [
    "<a name=\"estabilidad\"></a>\n",
    "### Estabilidad\n",
    "\n",
    "Un sistema estable es aquel que, dada una entrada acotada, genera una salida acotada. Esto implica que la salida del sistema no crece indefinidamente. En otras palabras, entradas pequeñas conducen a respuestas que no divergen.\n",
    "\n",
    "***\n"
   ]
  },
  {
   "cell_type": "markdown",
   "metadata": {},
   "source": [
    "### Memoria\n",
    "<a name=\"memoria\"></a>\n",
    "Un sistema con memoria es aquel que depende de valores pasados o futuros (izquierdos o derechos, arriba o abajo) de la entrada. Por el contrario, un sistema sin memoria es aquel que solo depende del valor presente de la entrada.\n",
    "\n",
    "**Ejemplo: sistema sin memoria**\n",
    "\n",
    "$g(x) = \\Phi(f(x))$\n",
    "\n",
    "**Ejemplo: sistema con memoria**\n",
    "\n",
    "$y[k] = \\Phi(x[k-1])$\n",
    "\n",
    "***\n"
   ]
  },
  {
   "cell_type": "markdown",
   "metadata": {},
   "source": [
    "### Invertibilidad \n",
    "<a name=\"invertibilidad\"></a>\n",
    "\n",
    "Un sistema es invertible si observando su salida es posible determinar su entrada. Si un sistema es invertible, entonces se puede constriur un sistema inverso en cascada con el sistema original que produce como salida la entrada original.\n",
    "\n",
    "\n",
    "<img src=\"images/sistema-invertible.png\">\n",
    "\n",
    "\n",
    "***\n",
    "\n"
   ]
  },
  {
   "cell_type": "markdown",
   "metadata": {},
   "source": [
    "## Ejercicios\n",
    "\n",
    "Considere el sistema \n",
    "\n",
    "$y(t) = x(sen(t))$\n",
    "\n",
    "- ¿Es el sistema lineal?\n",
    "- ¿Es el sistema causal?\n",
    "\n",
    "\n",
    "Considere el sistema \n",
    "\n",
    "$y(t) = tx(t)$\n",
    "\n",
    "- ¿Es el sistema lineal?\n",
    "- ¿Es el sistema invariante?\n",
    "\n",
    "***"
   ]
  },
  {
   "cell_type": "markdown",
   "metadata": {},
   "source": [
    "## Ejemplo: Filtro pasabajos\n",
    "\n",
    "Se trata de un sistema que intenta remover los componentes de frecuencia sobre un cierto umbral. En esta demostración se puede cambiar la frecuencia base de la señal de entrada y el umbral.\n",
    "\n",
    "(Ejemplo adaptado de [este post](https://gist.github.com/junzis/e06eca03747fc194e322).)"
   ]
  },
  {
   "cell_type": "code",
   "execution_count": 11,
   "metadata": {},
   "outputs": [
    {
     "data": {
      "application/vnd.jupyter.widget-view+json": {
       "model_id": "b86c4daa8b1049db86be9421acd4b7dc",
       "version_major": 2,
       "version_minor": 0
      },
      "text/plain": [
       "interactive(children=(FloatSlider(value=3.0, description='umbral', max=50.0, min=0.1, step=5.0), FloatSlider(v…"
      ]
     },
     "metadata": {},
     "output_type": "display_data"
    },
    {
     "data": {
      "text/plain": [
       "<function __main__.system(umbral, frecuencia)>"
      ]
     },
     "execution_count": 11,
     "metadata": {},
     "output_type": "execute_result"
    }
   ],
   "source": [
    "import numpy as np\n",
    "from scipy.signal import butter, filtfilt, freqz\n",
    "from matplotlib import pyplot as plt\n",
    "\n",
    "from ipywidgets import interact, interactive, fixed, interact_manual\n",
    "import ipywidgets as widgets\n",
    "\n",
    "%matplotlib inline\n",
    "\n",
    "# Implementacion de un filtro butterworth pasabajos\n",
    "def butter_lowpass(cutoff, fs, order=5):\n",
    "    nyq = 0.5 * fs\n",
    "    normal_cutoff = cutoff / nyq\n",
    "    b, a = butter(order, normal_cutoff, btype='low', analog=False)\n",
    "    return b, a\n",
    "\n",
    "def butter_lowpass_filter(data, cutoff, fs, order=5):\n",
    "    b, a = butter_lowpass(cutoff, fs, order=order)\n",
    "    y = filtfilt(b, a, data)\n",
    "    return y\n",
    "\n",
    "\n",
    "# Parametros del sistema\n",
    "order = 5\n",
    "fs = 100.0  # samplerate, Hz\n",
    "T = 8.0             # duration total\n",
    "n = int(T * fs)     # numero de muestras\n",
    "t = np.linspace(0, T, n, endpoint=False)\n",
    "\n",
    "def system(umbral,frecuencia):\n",
    "\n",
    "    b, a = butter_lowpass(umbral, fs, order)\n",
    " \n",
    "    # Entrada al sistema\n",
    "    x = np.sin(frecuencia*2*np.pi*t) +0.25*np.sin(25*2*np.pi*t)\n",
    "\n",
    "    # Se aplica el sistema a la entrada y se calcula la salida\n",
    "    y = butter_lowpass_filter(x, umbral, fs, order)\n",
    "\n",
    "    plt.figure(figsize=(10,7))\n",
    "    plt.subplot(3, 1, 1)\n",
    "    plt.plot(t, x, 'b-')\n",
    "    plt.title('Entrada')\n",
    "    plt.ylim(-1.2,1.2)\n",
    "    plt.xlabel('Tiempo [seg]')\n",
    "    plt.grid()\n",
    "  \n",
    "    plt.subplot(3, 1, 2)\n",
    "    plt.plot(t, y, 'g-', linewidth=2)\n",
    "    plt.title('Salida')\n",
    "    plt.ylim(-1.2,1.2)\n",
    "    plt.xlabel('Tiempo [seg]')\n",
    "    plt.grid()\n",
    "  \n",
    "    plt.subplot(3, 1, 3)\n",
    "    plt.plot(t, y-x, 'g-', linewidth=2)\n",
    "    plt.title('Diferencia: (Salida - Entrada)')\n",
    "    plt.ylim(-1.2,1.2)\n",
    "    plt.xlabel('Tiempo [seg]')\n",
    "    plt.grid()\n",
    "  \n",
    "\n",
    "    plt.subplots_adjust(hspace=.8)\n",
    "    plt.show()\n",
    "\n",
    "\n",
    "slider_umbral = widgets.FloatSlider(value=3,min=0.1,max=50.,step=5) \n",
    "slider_frecuencia = widgets.FloatSlider(value=2,min=0.1,max=40.,step=2) \n",
    "\n",
    "interact(system, umbral=slider_umbral, frecuencia=slider_frecuencia)\n"
   ]
  },
  {
   "cell_type": "markdown",
   "metadata": {
    "nbsphinx": "hidden"
   },
   "source": [
    "<div class=\"alert alert-block alert-warning\">\n",
    "<b>Copyright</b><br>\n",
    "\n",
    "Estos apuntes están licenciados bajo la licencia <a href=\"https://creativecommons.org/licenses/by/4.0/\">Creative Commons Attribution 4.0</a>.<br>\n",
    "Como citar: <i>Rodrigo F. Cádiz, Apuntes de Señales y Sistemas.</i>\n",
    "</div>"
   ]
  },
  {
   "cell_type": "code",
   "execution_count": null,
   "metadata": {},
   "outputs": [],
   "source": []
  }
 ],
 "metadata": {
  "@webio": {
   "lastCommId": null,
   "lastKernelId": null
  },
  "kernelspec": {
   "display_name": "Python 3",
   "language": "python",
   "name": "python3"
  },
  "language_info": {
   "codemirror_mode": {
    "name": "ipython",
    "version": 3
   },
   "file_extension": ".py",
   "mimetype": "text/x-python",
   "name": "python",
   "nbconvert_exporter": "python",
   "pygments_lexer": "ipython3",
   "version": "3.7.3"
  }
 },
 "nbformat": 4,
 "nbformat_minor": 1
}
