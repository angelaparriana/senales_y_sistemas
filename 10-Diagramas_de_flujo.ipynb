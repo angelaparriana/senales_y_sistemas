{
 "cells": [
  {
   "cell_type": "markdown",
   "metadata": {
    "nbsphinx": "hidden"
   },
   "source": [
    "# Diagramas de flujo\n",
    "\n",
    "<div class=\"alert alert-block alert-warning\">\n",
    "Este notebook es parte de una colección de apuntes para el curso IEE2103 Señales y Sistemas, <a href=\"http://https://www.ing.uc.cl/electrica/\">Departamento de Ingeniería Eléctrica</a>, <a href=\"http://www.uc.cl\">Pontificia Universidad Católica de Chile</a>.<br> Profesor: <a href=\"http://www.rodrigocadiz.com\">Rodrigo F. Cádiz</a><br>\n",
    "Consultas y comentarios: <a href=\"mailto:rcadiz@ing.puc.cl\">rcadiz@ing.puc.cl</a>\n",
    "\n",
    "</div>\n",
    "\n",
    "***"
   ]
  },
  {
   "cell_type": "markdown",
   "metadata": {},
   "source": [
    "## Sistemas descritos por ecuaciones diferenciales\n",
    "\n",
    "Un gran variedad de [sistemas LTI](./09-Sistemas_LTI.ipynb) que describen sistemas físicos pueden ser descritos mediante ecuaciones diferenciales ordinarias, típicamente en función del tiempo como variable independiente.\n",
    "\n",
    "Una ecuación diferencial general LTI de orden N es\n",
    "\n",
    "$$ \\sum_{n=0}^{N} a_n \\frac{d^n y(t)}{dt^n} = \\sum_{n=0}^{M} b_n \\frac{d^n x(t)}{dt^n} $$\n",
    "\n",
    "donde $x(t)$ es la entrada e $y(t)$ la salida del sistema.\n",
    "\n",
    "Si la ecuación involucra operadores derivativos en $y(t)$ ($N>0$) o en $x(t)$, el sistema [tiene memoria](./02-Sistemas.ipynb#memoria). La [estabilidad](./02-Sistemas.ipynb#estabilidad) del sistema depende de los coeficientes $a_k$.\n",
    "\n",
    "\n",
    "Por ejemplo, el circuito eléctrico de la figura siguiente puede ser descrito por la siguiente ecuación:\n",
    "\n",
    "$$ R I(t) + L\\frac{dI(t)}{dt} + V(0) + \\frac{1}{C}\\int_{0}^tI(\\tau)d\\tau = V(t) $$\n",
    "\n",
    "<img width=\"150\" src=\"images/RLC_series.png\" />\n",
    "\n",
    "donde el voltaje $V(t)$ es la entrada y la corriente $I(t)$ la salida. Vemos que el sistema involucra amplificaciones por coeficientes, integraciones y derivaciones. Además, el sistema depende del valor del voltaje en el tiempo 0, es decir de información anterior al tiempo a partir del cual se analiza el sistema. Esto implica que el sistema tiene memoria, o dicho de otra manera, de un [*estado*](./11-Variables_de_estado.ipynb) anterior, especificado por las [condiciones iniciales](#condiciones_iniciales) del sistema."
   ]
  },
  {
   "cell_type": "markdown",
   "metadata": {},
   "source": [
    "*** \n",
    "### Diagramas\n",
    "\n",
    "Es útil representar este tipo de sistemas de manera gráfica mediante diagramas de flujo. Este tipo de diagramas tiene los siguientes elementos:\n",
    "\n",
    "\n",
    "<img width=\"300\" src=\"images/elementos.png\" />\n",
    "\n",
    "**Ejemplo:**\n",
    "\n",
    "El siguiente diagrama representa una ecuación diferencial de primer orden:\n",
    "<img width=\"300\" src=\"images/primer_orden1.png\" />\n",
    "\n",
    "De la figura se puede comprobar que\n",
    "\n",
    "$$ y(t) = \\int_{-\\infty}^{t} [b x(\\tau) - ay(\\tau)] d\\tau $$\n",
    "\n",
    "Derivando a ambos lados y reagrupando se obtiene:\n",
    "\n",
    "$$ \\frac{dy(t)}{dt} + ay(t) = bx(t) $$\n",
    "\n",
    "El mismo sistema se puede representar mediante la siguiente figura:\n",
    "<img width=\"300\" src=\"images/primer_orden2.png\" />\n",
    "\n",
    "De la figura se puede comprobar que\n",
    "\n",
    "$$ y(t) = \\frac{b}{a}x(t) - \\frac{1}{a}\\frac{d y(t)}{dt} $$\n",
    "\n",
    "Reagrupando se obtiene la misma ecuación anterior:\n",
    "\n",
    "$$ \\frac{dy(t)}{dt} + ay(t) = bx(t) $$\n"
   ]
  },
  {
   "cell_type": "markdown",
   "metadata": {},
   "source": [
    "***\n",
    "<a name=\"condiciones_iniciales\"></a>\n",
    "### Condiciones iniciales\n",
    "\n",
    "\n",
    "Una ecuación diferencial general de orden N necesita N condiciones iniciales:\n",
    "\n",
    "$$ y(t), \\frac{d y(t)}{dt}, \\dots, \\frac{d^{N-1} y(t)}{dt^{N-1}} $$\n",
    "\n",
    "evaluadas en $ t = t_0$\n",
    "\n",
    "Para un sistema **en reposo** las condiciones auxiliares deben ser cero. Si el sistema además es causal, el sistema debe estar en reposo inicial.\n",
    "\n",
    "Dicho de otra forma, si:\n",
    "\n",
    "$$ x(t) = 0, \\hspace{.5cm} t < t_0 $$\n",
    "\n",
    "entonces\n",
    "\n",
    "$$ y(t) = 0, \\hspace{.5cm} t < t_0 $$\n"
   ]
  },
  {
   "cell_type": "markdown",
   "metadata": {
    "nbsphinx": "hidden"
   },
   "source": [
    "<div class=\"alert alert-block alert-warning\">\n",
    "<b>Copyright</b><br>\n",
    "\n",
    "Estos apuntes están licenciados bajo la licencia <a href=\"https://creativecommons.org/licenses/by/4.0/\">Creative Commons Attribution 4.0</a>.<br>\n",
    "Como citar: <i>Rodrigo F. Cádiz, Apuntes de Señales y Sistemas.</i>\n",
    "</div>"
   ]
  }
 ],
 "metadata": {
  "kernelspec": {
   "display_name": "Python 3",
   "language": "python",
   "name": "python3"
  },
  "language_info": {
   "codemirror_mode": {
    "name": "ipython",
    "version": 3
   },
   "file_extension": ".py",
   "mimetype": "text/x-python",
   "name": "python",
   "nbconvert_exporter": "python",
   "pygments_lexer": "ipython3",
   "version": "3.7.4"
  },
  "nbTranslate": {
   "displayLangs": [
    "*"
   ],
   "hotkey": "alt-t",
   "langInMainMenu": true,
   "sourceLang": "en",
   "targetLang": "fr",
   "useGoogleTranslate": true
  }
 },
 "nbformat": 4,
 "nbformat_minor": 1
}
