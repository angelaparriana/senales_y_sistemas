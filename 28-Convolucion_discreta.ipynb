{
  "cells": [
    {
      "cell_type": "markdown",
      "source": [
        "# Convolución discreta\n",
        "\n",
        "<div class=\"alert alert-block alert-warning\">\n",
        "Este notebook es parte de una colección de apuntes para el curso IEE2103 Señales y Sistemas, <a href=\"http://https://www.ing.uc.cl/electrica/\">Departamento de Ingeniería Eléctrica</a>, <a href=\"http://www.uc.cl\">Pontificia Universidad Católica de Chile</a>.<br> Profesor: <a href=\"http://www.rodrigocadiz.com\">Rodrigo F. Cádiz</a><br>\n",
        "Consultas y comentarios: <a href=\"mailto:rcadiz@ing.puc.cl\">rcadiz@ing.puc.cl</a>\n",
        "\n",
        "</div>\n",
        "\n",
        "***"
      ],
      "metadata": {
        "nbsphinx": "hidden"
      }
    },
    {
      "cell_type": "markdown",
      "source": [
        "## Convolución discreta lineal\n",
        "\n",
        "La convolución discreta lineal es una operación muy importante en la teoría de señales y sistemas. Formalmente, la convolución de dos señales discretas $x[n]$ and $h[n]$ se define como:\n",
        "\n",
        "\\begin{equation}\n",
        "x[n] * h[n] = \\sum_{\\kappa = -\\infty}^{\\infty} x[\\kappa] \\cdot h[n - \\kappa] = \\sum_{\\kappa = -\\infty}^{\\infty} x[n - \\kappa] \\cdot h[\\kappa]\n",
        "\\end{equation}\n",
        "\n",
        "donde el símbolo $*$ se utiliza para denotar esta operación. Esta operación también se denota con el símbolo $\\ast_l$, para explicitar que se trata de la convolución lineal. \n",
        "\n",
        "\n",
        "**Nota:** \n",
        "<div class=\"alert alert-block alert-info\">\n",
        "La notación $x[n] * h[n]$ no es formalmente correcta. Es importante recalcar que la convolución es una operación entre funciones y no una operación en la variable independiente, como esta notación insinúa. Es preferible usar la notación $(x * h)[n]$.\n",
        "</div>\n",
        "\n",
        "Obviamente, para que la convolución exista, la serie debe converger. "
      ],
      "metadata": {}
    },
    {
      "cell_type": "markdown",
      "source": [
        "### Propiedades\n",
        "\n",
        "Dadas las señales $x[n]$, $h[n]$, $g[n] \\in \\mathbb{C}$ la convolución exhibe las siguientes propiedades: \n",
        "\n",
        "1. El impulso de Dirac es el [elemento identidad](https://en.wikipedia.org/wiki/Identity_element) de la convolución\n",
        "    \\begin{equation}\n",
        "    x[n] * \\delta[n] = x[n]\n",
        "    \\end{equation}\n",
        "    \n",
        "2. La convolución es [commutativa](https://en.wikipedia.org/wiki/Commutative_property) \n",
        "    \\begin{equation}\n",
        "    x[n] * h[n] = h[n] * x[n]\n",
        "    \\end{equation}\n",
        "    \n",
        "3. La convolución es [asociativa](https://en.wikipedia.org/wiki/Associative_property)\n",
        "    \\begin{equation}\n",
        "    \\left( x[n] * h[n] \\right) * g[n] = x[n] * \\left( h[n] * g[n] \\right) \n",
        "    \\end{equation}\n",
        "\n",
        "5. La convolución es [distributiva](https://en.wikipedia.org/wiki/Distributive_property)\n",
        "    \\begin{equation}\n",
        "    x[n] * \\left( h[n] + g[n] \\right) = x[n] * h[n] + x[n] * g[n]\n",
        "    \\end{equation}\n",
        "\n",
        "5. Multiplicación por un escalar $a \\in \\mathbb{C}$\n",
        "    \\begin{equation}\n",
        "    a \\cdot \\left( x[n] * h[n] \\right) = \\left( a \\cdot x[n] \\right) * h[n] = x[n] * \\left( a \\cdot h[n] \\right)\n",
        "    \\end{equation}\n",
        "\n",
        "La primera propiedad se conoce como la propiedad del cedazo del impulso. Las demás propiedades se pueden demostrar utilizando la definición de la convolución."
      ],
      "metadata": {}
    },
    {
      "cell_type": "markdown",
      "source": [
        "### Interpretación gráfica\n",
        "\n",
        "La convolución usualmente se [interpreta de una manera gráfica](https://en.wikipedia.org/wiki/Convolution#Visual_explanation). Esta interpretación provee información muy útil para entender el cálculo que involucra la convolución y permite estimar su resultado en forma visual de forma rápida. \n",
        "\n",
        "\\begin{equation}\n",
        "y[n] = x[n] * h[n] = \\sum_{\\kappa = -\\infty}^{\\infty} x[\\kappa] \\cdot h[n - \\kappa]\n",
        "\\end{equation}\n",
        "\n",
        "La operación anterior se puede descomponer en cuatro sub-operaciones: \n",
        "\n",
        "1. Sustituir $n$ por $\\kappa$ en $x[n]$ y $h[n]$,\n",
        "\n",
        "2. Reversar el eje del tiempo $h[\\kappa]$ (espejamiento en el eje vertical),\n",
        "\n",
        "3. Desplazar $h[- \\kappa]$ por $n$ para obtener $h[n - \\kappa]$, es decir un desplazamiento hacia la  **derecha** para $n>0$ o hacia la **izquierda** para $n<0$,\n",
        "\n",
        "4. Determinar para cual $n = -\\infty \\dots \\infty$ la versión espejada y desplazada $h[n - \\kappa]$ se traslapa con $x[\\kappa]$, calcula la suma específica para todos los $n$ relevantes para obtener $y[n]$\n",
        "\n",
        "**Ejemplo**\n",
        "\n",
        "Consideremos las señales discretas causales\n",
        "\n",
        "\\begin{align}\n",
        "h[n] &=  e^{- \\frac{n}{2}} u[n] \\\\\n",
        "x[n] &= \\frac{4}{5} \\sqcap_N[n] \n",
        "\\end{align}\n",
        "\n",
        "donde $u[n]$ es el escalón, y $\\sqcap_N$ es un rect de ancho $N$. Consideremos el caso $N=6$.\n",
        "\n",
        "La señal $h[n]$ se puede interpretar como la respuesta al impulso de un sistema LTI que actúa como un filtro pasa-bajos simple. Por lo tanto, es esperable que los bordes de la señal de entrada se suavizen después de la convolución.\n",
        "\n",
        "Antes de proceder, necesitamos definir algunas funciones auxiliares."
      ],
      "metadata": {}
    },
    {
      "cell_type": "code",
      "source": [
        "import numpy as np\n",
        "import matplotlib.pyplot as plt\n",
        "%matplotlib inline\n",
        "\n",
        "def step(n):\n",
        "    return np.where(n >= 0, 1.0, 0.0)\n",
        "\n",
        "\n",
        "def rect(n, N):\n",
        "    return np.where((0 <= n) & (n < N), 1.0, 0.0)\n",
        "\n",
        "\n",
        "def x(n):\n",
        "    return 4/5 * rect(n, 6)\n",
        "\n",
        "\n",
        "def h(n):\n",
        "    return step(n) * np.exp(- n/2)\n",
        "\n",
        "\n",
        "def plot_signals(n, x, h, xlabel, hlabel, klabel):\n",
        "    plt.figure(figsize=(8, 4))\n",
        "    plt.stem(n, x, linefmt='C0-', markerfmt='C0o', label=xlabel)\n",
        "    plt.stem(n, h, linefmt='C1-', markerfmt='C1o', label=hlabel)\n",
        "    plt.xlabel(klabel)\n",
        "    plt.legend()\n",
        "    plt.ylim([0, 1.2])\n",
        "    plt.grid(True)"
      ],
      "outputs": [],
      "execution_count": 6,
      "metadata": {}
    },
    {
      "cell_type": "markdown",
      "source": [
        "Las señales $x[n]$ y $h[n]$ son calculadas y graficadas para un rango específico de $n$."
      ],
      "metadata": {}
    },
    {
      "cell_type": "code",
      "source": [
        "n = np.arange(-20, 21)\n",
        "\n",
        "plot_signals(n, x(n), h(n), r'$x[n]$', r'$h[n]$', r'$n$')\n"
      ],
      "outputs": [
        {
          "output_type": "display_data",
          "data": {
            "image/png": "[encoded data removed]",
            "text/plain": [
              "<Figure size 576x288 with 1 Axes>"
            ]
          },
          "metadata": {
            "needs_background": "light"
          }
        }
      ],
      "execution_count": 7,
      "metadata": {}
    },
    {
      "cell_type": "markdown",
      "source": [
        "El **primer paso** es sustituir $n$ por $\\kappa$, tanto en $x[n]$ como en $h[n]$, para calcular $x[\\kappa]$ y $h[\\kappa]$.\n",
        "\n",
        "Notamos que el eje horizontal representa ahora $\\kappa$, que es una variable temporal auxiliar para calcular la suma. Esto se muestra en el siguiente gráfico."
      ],
      "metadata": {}
    },
    {
      "cell_type": "code",
      "source": [
        "kappa = np.arange(-20, 21)\n",
        "\n",
        "x1 = x(kappa)\n",
        "h1 = h(kappa)\n",
        "\n",
        "plot_signals(kappa, x1, h1, r'$x[\\kappa]$', r'$h[\\kappa]$', r'$\\kappa$')"
      ],
      "outputs": [
        {
          "output_type": "display_data",
          "data": {
            "image/png": "[encoded data removed]",
            "text/plain": [
              "<Figure size 576x288 with 1 Axes>"
            ]
          },
          "metadata": {
            "needs_background": "light"
          }
        }
      ],
      "execution_count": 8,
      "metadata": {}
    },
    {
      "cell_type": "markdown",
      "source": [
        "El **segundo paso** es reversar en el tiempo  $h[\\kappa]$ en la eje de las ordenadas en torno a $\\kappa=0$ para obtener $h[-\\kappa]$"
      ],
      "metadata": {}
    },
    {
      "cell_type": "code",
      "source": [
        "h2 = h(kappa[::-1])  \n",
        "\n",
        "plot_signals(n, x1, h2, r'$x[\\kappa]$', r'$h[-\\kappa]$', r'$\\kappa$')"
      ],
      "outputs": [
        {
          "output_type": "display_data",
          "data": {
            "image/png": "[encoded data removed]",
            "text/plain": [
              "<Figure size 576x288 with 1 Axes>"
            ]
          },
          "metadata": {
            "needs_background": "light"
          }
        }
      ],
      "execution_count": 10,
      "metadata": {}
    },
    {
      "cell_type": "markdown",
      "source": [
        "En el **tercer paso** la respuesta al impulso $h[-\\kappa]$ se desplaza en $n$ muestras para obtener $h[n - \\kappa]$. Este desplazamiento se realiza hacia la **derecha** para $n>0$ y para la **izquierda** para $n<0$.\n",
        "\n",
        "Para el **cuarto paso** es útil segmentar el cálculo del resultado de acuerdo al traslape entre $h[n-\\kappa]$ y $x[\\kappa]$.\n",
        "\n",
        "En este ejemplo, hay que considerar tres casos:\n",
        "\n",
        "1. No hay traslape para $n<0$,\n",
        "2. Traslape parcial para $0 \\leq n < 6$, y\n",
        "3. traslape total para $n \\geq 6$ (tomando en cuenta que la respuesta al impulso $h[n]$ es infinita y decae asintóticamente).\n",
        "\n",
        "El primer caso, donde no hay traslape, se ilustra para $n= - 5$ (hacia la izquierda).\n"
      ],
      "metadata": {}
    },
    {
      "cell_type": "code",
      "source": [
        "h3 = h(-5 + kappa[::-1])\n",
        "\n",
        "plot_signals(n, x1, h3, r'$x[\\kappa]$', r'$h[-5 -\\kappa]$', r'$\\kappa$')"
      ],
      "outputs": [
        {
          "output_type": "display_data",
          "data": {
            "image/png": "[encoded data removed]",
            "text/plain": [
              "<Figure size 576x288 with 1 Axes>"
            ]
          },
          "metadata": {
            "needs_background": "light"
          }
        }
      ],
      "execution_count": 11,
      "metadata": {}
    },
    {
      "cell_type": "markdown",
      "source": [
        "De acuerdo a esto es claro que para este caso\n",
        "\n",
        "\\begin{equation}\n",
        "y[n] = 0 \\qquad \\text{for } k < 0\n",
        "\\end{equation}\n",
        "\n",
        "El segundo caso, cuando hay traslape parcial, se ilustra ahora para $n = 3$ (desplazamiento hacia la izquierda)."
      ],
      "metadata": {}
    },
    {
      "cell_type": "code",
      "source": [
        "h4 = h(3 + kappa[::-1])\n",
        "\n",
        "plot_signals(n, x1, h4, r'$x[\\kappa]$', r'$h[+3 -\\kappa]$', r'$\\kappa$')"
      ],
      "outputs": [
        {
          "output_type": "display_data",
          "data": {
            "image/png": "[encoded data removed]",
            "text/plain": [
              "<Figure size 576x288 with 1 Axes>"
            ]
          },
          "metadata": {
            "needs_background": "light"
          }
        }
      ],
      "execution_count": 12,
      "metadata": {}
    },
    {
      "cell_type": "markdown",
      "source": [
        "Entonces, para este caso la suma de convolución otorga:\n",
        "\n",
        "\\begin{equation}\n",
        "y[n] = \\frac{4}{5} \\sum_{\\kappa=0}^{n} e^{-\\frac{n - \\kappa}{2}}  \\qquad \\text{para } 0 \\leq n < 6\n",
        "\\end{equation}\n",
        "\n",
        "El tercer caso, traslape total, se ilustra para $n = 10$."
      ],
      "metadata": {}
    },
    {
      "cell_type": "code",
      "source": [
        "h5 = h(10 + kappa[::-1])\n",
        "\n",
        "plot_signals(n, x1, h5, r'$x[\\kappa]$', r'$h[10 -\\kappa]$', r'$\\kappa$')"
      ],
      "outputs": [
        {
          "output_type": "display_data",
          "data": {
            "image/png": "[encoded data removed]",
            "text/plain": [
              "<Figure size 576x288 with 1 Axes>"
            ]
          },
          "metadata": {
            "needs_background": "light"
          }
        }
      ],
      "execution_count": 13,
      "metadata": {}
    },
    {
      "cell_type": "markdown",
      "source": [
        "En este tercer caso, la integral de convolución es:\n",
        "\n",
        "\\begin{equation}\n",
        "y[n] = \\frac{4}{5} \\sum_{\\kappa=0}^{5} e^{-\\frac{n - \\kappa}{2}}  \\qquad \\text{para } n \\geq 6\n",
        "\\end{equation}\n",
        "\n",
        "El resultado total se compone de estos tres resultados indivisuales. Como una alternativa y con el objetivo de graficar el resultado, la convolución se evalúa numéricamente mediante la función de numpy `convolve`.\n",
        "\n",
        "\n",
        "NOTA: Esta función `convolve` realiza una convolución plana y no toma encuenta alineamientos particulares respecto a $k$. Por lo tanto, podría ser necesario adaptar el resultado obtenido para obtener un alineamiento adecuado respecto a $k$ si ambas señales no comenzaran exactamente en $k=0$."
      ],
      "metadata": {}
    },
    {
      "cell_type": "code",
      "source": [
        "def y(n):\n",
        "    return np.convolve(x(n), h(n), mode='same')\n",
        "\n",
        "plt.stem(n, y(n), linefmt='C2-', markerfmt='C2o')\n",
        "plt.xlabel(r'$y[n]$')\n",
        "plt.ylabel(r'$y[n]$')\n",
        "plt.ylim([0, 2])\n",
        "plt.grid(True)"
      ],
      "outputs": [
        {
          "output_type": "display_data",
          "data": {
            "image/png": "[encoded data removed]",
            "text/plain": [
              "<Figure size 432x288 with 1 Axes>"
            ]
          },
          "metadata": {
            "needs_background": "light"
          }
        }
      ],
      "execution_count": 15,
      "metadata": {}
    },
    {
      "cell_type": "markdown",
      "source": [
        "***\n",
        "### Convolución lineal de señales de largo finito\n",
        "\n",
        "El largo de una señal discreta $x[n]$ se puede definir por el número total de muestras entre la primera muestra distinta de cero y la última muestra que es cero, más uno. Esto podría incluir cero entre estos límites.\n",
        "\n",
        "Una señal finita es una señal cuyo largo es finito. De acuerdo a esta definición, el impulso de Dirac $\\delta[n]$ es una señal finita de largo uno.\n",
        "\n",
        "<div class=\"alert alert-block alert-info\">\n",
        "La convolución lineal de dos señales finitas es de importancia práctica dado que la convolución solo se puede evaular numéricamente, por ejemplo en un computador, para señales finitas. Cualquier señal infinita se puede truncar a una señal finita de interés multiplicándola por un rect adecuadamente desplazado $\\sqcap_N[n - \\kappa]$. \n",
        "</div>\n",
        "\n",
        "Es por lo tanto, suficiente considerar la convolución de dos señales causales rectangulares de largo $N, M \\in \\mathbb{N}$\n",
        "\n",
        "\\begin{equation}\n",
        "y[k] = \\sqcap_N[k] * \\sqcap_M[k]\n",
        "\\end{equation}\n",
        "\n",
        "para tener una idea del funcionamiento de la convolución de dos señales finitas arbitrarias. \n",
        "\n",
        "Siguiendo la interpretación gráfica de la convolución lineal, el resultado para $N \\leq M$ se puede obtener como\n",
        "\n",
        "\\begin{equation}\n",
        "y[n] = \\begin{cases}\n",
        "0 & \\text{para }  n < 0 \\\\\n",
        "n+1 & \\text{para } 0 \\leq n < N \\\\\n",
        "N & \\text{para } N \\leq n < M \\\\\n",
        "N+M-1-n & \\text{para } M \\leq n < N+M-1\\\\\n",
        "0 & \\text{para } n \\geq N+M-1.\n",
        "\\end{cases}\n",
        "\\end{equation}\n",
        "\n",
        "Por lo tanto, la convolución de dos señales rectangulares es una señal finita. El largo de esta señal es $N+M-1$. Esta intuición se puede generalizar para la convolución de dos señales finitas arbitrarias siguiendo el siguiente razonamiento:\n",
        "\n",
        "La convolución de dos señales finitas de largo $N$ y $M$ respectivamente, resulta en una señal finita de largo $N+M-1$.\n",
        "\n",
        "Para dos señales causales $x[n]$ y $h[n]$ de largos finitos $N$ y $M$ la convolución está dada por:\n",
        "\n",
        "\\begin{equation}\n",
        "x[n] * h[n] = \\sum_{\\kappa = 0}^{N-1} x[\\kappa] \\cdot h[n - \\kappa] = \\sum_{\\kappa = 0}^{M-1} x[n - \\kappa] \\cdot h[\\kappa]\n",
        "\\end{equation}\n",
        "\n",
        "para $0 \\leq n < N+M-1$. El cálculo de cada muestra de salida requiere al menos $N$ multiplicaciones y $N-1$ sumas. La complejidad numérica de la convolución de $N$ muestras de salida es, por lo tanto [del orden de](https://en.wikipedia.org/wiki/Big_O_notation) $\\mathcal{O} ( N^2 )$.\n",
        "\n",
        "**Ejemplo**\n",
        "\n",
        "La convolución de dos señales rectangulares $y[n] = \\sqcap_N[n] * \\sqcap_M[n]$ de largos $N$ y $M$ se calculará para el caso $N=7$ y $M=15$."
      ],
      "metadata": {}
    },
    {
      "cell_type": "code",
      "source": [
        "N = 7\n",
        "M = 15\n",
        "\n",
        "y = np.convolve(np.ones(N), np.ones(M), mode='full')\n",
        "\n",
        "plt.stem(y)\n",
        "plt.xlabel('$n$')\n",
        "plt.ylabel('$y[n]$')\n",
        "plt.ylim([0, N+.5])\n",
        "plt.xlim([-5, 25])\n",
        "plt.xticks(np.arange(0,21,2));\n",
        "plt.grid(True)"
      ],
      "outputs": [
        {
          "output_type": "display_data",
          "data": {
            "image/png": "[encoded data removed]",
            "text/plain": [
              "<Figure size 432x288 with 1 Axes>"
            ]
          },
          "metadata": {
            "needs_background": "light"
          }
        }
      ],
      "execution_count": 16,
      "metadata": {}
    },
    {
      "cell_type": "markdown",
      "source": [
        "**Ejercicio**\n",
        "\n",
        "* Compruebe este resultado de forma analítica."
      ],
      "metadata": {}
    },
    {
      "cell_type": "markdown",
      "source": [
        "***\n",
        "## Convolución periódica o circular\n",
        "\n",
        "La [convolución periódica o circular o cíclica](https://en.wikipedia.org/wiki/Circular_convolution) de dos señales discretas finitas $x[n]$ y $h[n]$ se define como:\n",
        "\n",
        "\\begin{equation}\n",
        "x[n] \\circledast_P h[n] = \\sum_{\\kappa=0}^{P-1} \\tilde{x}_P[n - \\kappa] \\; \\tilde{h}_P[\\kappa] =\n",
        "\\sum_{\\kappa=0}^{P-1} \\tilde{x}_P[\\kappa] \\; \\tilde{h}_P[n - \\kappa]\n",
        "\\end{equation}\n",
        "\n",
        "donde $\\circledast_P$ denota la **convolución circular de período $P$**. La sumas periódicas $\\tilde{x}_P[n]$ de $x[n]$ y $\\tilde{h}_P[n]$ de $h[n]$ con período $P$ se definen mediante:\n",
        "\n",
        "\\begin{align}\n",
        "\\tilde{x}_P[n] &= \\sum_{\\nu = -\\infty}^{\\infty} x[\\nu \\cdot P + n] \\\\\n",
        "\\tilde{h}_P[n] &= \\sum_{\\nu = -\\infty}^{\\infty} h[\\nu \\cdot P + n]\n",
        "\\end{align}\n",
        "\n",
        "El resultado de la convolución circular tiene período $P$. La convolución periódica de dos señales es en general distinta a la convolución lineal.\n",
        "\n",
        "En el caso especial en que el largo de una o ambas señales $x[n]$ y $h[n]$ sea menor o igual al período $P$, la suma periódica se convierte en una continuación periódica de la señal o señales. Más aún, la continuación periódica debe hacerse solo para la señal desfasada en la suma de convolución. En este caso especial, la convolución periódica usualmente se llama **convolución cíclica**."
      ],
      "metadata": {}
    },
    {
      "cell_type": "markdown",
      "source": [
        "**Ejemplo - Convolución periódica versus lineal**\n",
        "\n",
        "La covolución periódica $y_1[n] = x[n] \\circledast_P h[n]$ y la lineal $y_2[n] = x[n] * h[n]$ de dos señales  $x[n] = \\sqcap_M[n]$ y $h[n] = \\sqcap_N[n]$ será evaluada numéricamente. Para estos propósitos, construimos las siguiente funciones auxiliares que implementan la suma y convolución periódica."
      ],
      "metadata": {}
    },
    {
      "cell_type": "code",
      "source": [
        "import numpy as np\n",
        "import matplotlib.pyplot as plt\n",
        "%matplotlib inline\n",
        "\n",
        "\n",
        "def periodic_summation(x, P):\n",
        "    'Zero-padding to length P or periodic summation with period P.'\n",
        "    N = len(x)\n",
        "    rows = int(np.ceil(N/P))\n",
        "\n",
        "    if (N < int(P*rows)):\n",
        "        x = np.pad(x, (0, int(P*rows-N)), 'constant')\n",
        "\n",
        "    x = np.reshape(x, (rows, P))\n",
        "\n",
        "    return np.sum(x, axis=0)\n",
        "\n",
        "\n",
        "def periodic_convolve(x, y, P):\n",
        "    'Periodic convolution of two signals x and y with period P.'\n",
        "    x = periodic_summation(x, P)\n",
        "    h = periodic_summation(y, P)\n",
        "\n",
        "    return np.array([np.dot(np.roll(x[::-1], k+1), h) for k in range(P)], float)"
      ],
      "outputs": [],
      "execution_count": 17,
      "metadata": {}
    },
    {
      "cell_type": "markdown",
      "source": [
        "Calculemos ahora las convoluciones y grafiquemos las señales resultantes. Notamos que para las señales periódicas  $\\tilde{x}_P[n]$ y $y_1[n]$ solo se muestra un sólo período."
      ],
      "metadata": {}
    },
    {
      "cell_type": "code",
      "source": [
        "M = 32  # length of signal x[k]\n",
        "N = 16  # length of signal h[k]\n",
        "P = 24  # period of periodic convolution\n",
        "\n",
        "\n",
        "def rect(n, N):\n",
        "    return np.where((0 <= n) & (n < N), 1.0, 0.0)\n",
        "\n",
        "\n",
        "# generate signals\n",
        "n = np.arange(M+N-1)\n",
        "x = .5 * rect(n, M)\n",
        "h = rect(n, N)\n",
        "\n",
        "# periodic convolution\n",
        "y1 = periodic_convolve(x, h, P)\n",
        "# linear convolution\n",
        "y2 = np.convolve(x, h, 'full')\n",
        "\n",
        "# plot results\n",
        "plt.figure()\n",
        "plt.stem(periodic_summation(x, P), linefmt='C0-',\n",
        "         markerfmt='C0o', label=r'$\\tilde{x}_P[n]$')\n",
        "plt.stem(x, linefmt='C1--', markerfmt='C1.', label=r'$x[n]$')\n",
        "plt.xlabel(r'$n$')\n",
        "plt.xlim([0, M+N-1])\n",
        "plt.legend()\n",
        "plt.grid()\n",
        "\n",
        "plt.figure()\n",
        "plt.stem(y1, linefmt='C1-', markerfmt='C1o',\n",
        "         label=r'convolución periódica $P={}$'.format(P))\n",
        "plt.stem(y2, linefmt='C0--', markerfmt='C0.', label=r'convolución lineal')\n",
        "plt.xlabel(r'$n$')\n",
        "plt.xlim([0, M+N-1])\n",
        "plt.legend()\n",
        "plt.grid()"
      ],
      "outputs": [
        {
          "output_type": "display_data",
          "data": {
            "image/png": "[encoded data removed]",
            "text/plain": [
              "<Figure size 432x288 with 1 Axes>"
            ]
          },
          "metadata": {
            "needs_background": "light"
          }
        },
        {
          "output_type": "display_data",
          "data": {
            "image/png": "[encoded data removed]",
            "text/plain": [
              "<Figure size 432x288 with 1 Axes>"
            ]
          },
          "metadata": {
            "needs_background": "light"
          }
        }
      ],
      "execution_count": 18,
      "metadata": {}
    },
    {
      "cell_type": "markdown",
      "source": [
        "**Ejercicio**\n",
        "\n",
        "* Cambie el largo $M$ de la señal rectangular $x[k]$. ¿Como cambia el resultado de la convolución circular?\n",
        "* Compare el resultado de la convolución periódica con la lineal. ¿Para qué valores de $P$ ambas dan el mismo resultado?"
      ],
      "metadata": {}
    },
    {
      "cell_type": "markdown",
      "source": [
        "***\n",
        "<a name=\"equivalencia_lineal_periodica\"></a>\n",
        "### Equivalencia de convolución lineal y periódica\n",
        "\n",
        "Sabemos que la convolución lineal de una señal causal $x_L[k]$ de longitud $L$ con una señal causal $h_N[k]$ de longitud $N$ lee\n",
        "\n",
        "\\begin{equation}\n",
        "y[k] = x_L[k] * h_N[k] = \\sum_{\\kappa = 0}^{L-1} x_L[\\kappa] \\; h_N[k - \\kappa] = \\sum_{\\kappa = 0}^{N-1} h_N[\\kappa] \\; x_L[k - \\kappa]\n",
        "\\end{equation}\n",
        "\n",
        "La señal resultante $y[k]$ es de longitud finita $M = N+L-1$. Sin pérdida de generalidad se supone a continuación que $N \\leq L$. El cálculo de $y[k]$ para $k=0,1, \\dots, M-1$ requiere multiplicaciones de $M \\cdot N$ y adiciones de $M \\cdot (N-1)$. La complejidad computacional de la convolución es consecuentemente de [orden](https://en.wikipedia.org/wiki/Big_O_notation) $\\mathcal{O}(M \\cdot N)$.\n",
        "\n",
        "La convolución periódica o circular o cíclica)] de dos señales $x_L[k]$ y $h_N[k]$ se define como\n",
        "\n",
        "\\begin{equation}\n",
        "x_L[k] \\circledast_P h_N[k] = \\sum_{\\kappa=0}^{P-1} \\tilde{x}_P[k - \\kappa] \\; \\tilde{h}_P[\\kappa]\n",
        "\\end{equation}\n",
        "\n",
        "donde $\\circledast_P$ denota la convolución periódica con período $P$. Las sumas periódicas $\\tilde{x}_P[k]$ de $x[k]$ y $\\tilde{h}_P[k]$ de $h[k]$ con el período $P$ se definen como\n",
        "\n",
        "\\begin{align}\n",
        "\\tilde{x}_P[k] &= \\sum_{\\nu = -\\infty}^{\\infty} x_L[\\nu \\cdot P + k] \\\\\n",
        "\\tilde{h}_P[k] &= \\sum_{\\nu = -\\infty}^{\\infty} h_N[\\nu \\cdot P + k]\n",
        "\\end{align}\n",
        "\n",
        "El resultado de la convolución circular tiene un período de $P$.\n",
        "\n",
        "#### ¿Existe alguna forma de calcular una convolución lineal mediante una convolución cíclica?\n",
        "La respuesta es sí. Para calcular la convolución lineal por una convolución periódica, uno debe tener cuidado de que el resultado de la convolución lineal se ajuste a un período de la convolución periódica. Por lo tanto, la periodicidad debe elegirse como $P \\geq M$ donde $M = N+L-1$. Esto se puede lograr mediante el [acolchamiento](./35-Propiedades_de_la_DFT.ipynb#acolchamiento) $x_L[k]$ a la longitud total de $M$, lo que da como resultado la señal $x_M[k]$ de longitud $M$, que se define como\n",
        "\n",
        "\\begin{equation}\n",
        "x_M[k] = \\begin{cases} \n",
        "x_L[k] & \\text{for } 0 \\leq k < L \\\\\n",
        "0 & \\text{for } L \\leq k < M\n",
        "\\end{cases}\n",
        "\\end{equation}\n",
        "\n",
        "De forma similar se puede hacer para $h_N[k]$, que resulta en la señal $h_M[k]$ con acolchamiento:\n",
        "\n",
        "\\begin{equation}\n",
        "h_M[k] = \\begin{cases} \n",
        "h_N[k] & \\text{for } 0 \\leq k < N \\\\\n",
        "0 & \\text{for } N \\leq k < M\n",
        "\\end{cases}\n",
        "\\end{equation}\n",
        "\n",
        "Usando estas señales, la convolución lineal y periódica son equivalentes para las primeras muestras de $M$ $k = 0,1,\\dots, M-1$\n",
        "\n",
        "\\begin{equation}\n",
        "x_L[k] * h_N[k] = x_M[k] \\circledast_M h_M[k]\n",
        "\\end{equation}"
      ],
      "metadata": {}
    },
    {
      "cell_type": "markdown",
      "source": [
        "#### Ejemplo: convolución lineal y cíclica de dos señales rectangulares"
      ],
      "metadata": {}
    },
    {
      "cell_type": "code",
      "source": [
        "import numpy as np\n",
        "import matplotlib.pyplot as plt\n",
        "\n",
        "%matplotlib inline\n",
        "\n",
        "L = 8  # largo de la señal x[k]\n",
        "N = 10  # largo de la respuesta al impulso h[k]\n",
        "P = 14 # periodicidad para la convolución periódica\n",
        "\n",
        "# Función que calcula la convolución periódica mediante la fft\n",
        "def cconv(in1,in2,period):\n",
        "    return np.fft.ifft(np.fft.fft(in1, period) * np.fft.fft(in2, period))\n",
        "\n",
        "# Las señales de prueba son dos rects de largos L y N\n",
        "x = np.ones(L)\n",
        "h = np.ones(N)\n",
        "\n",
        "\n",
        "y1 = np.convolve(x, h, 'full') # convolución lineal\n",
        "\n",
        "y2 = cconv(x, h, int(P)) # convolución periódica\n",
        "\n",
        "xp = np.append(x, np.zeros(N-1)) #acolchamiento\n",
        "hp = np.append(h, np.zeros(L-1)) #acolchamiento\n",
        "\n",
        "y3 = cconv(xp, hp, L+N-1) # convolución periódica de las señales acolchadas\n",
        "\n",
        "\n",
        "def plot_signal(x):\n",
        "    plt.stem(x)\n",
        "    plt.xlabel('$k$')\n",
        "    plt.ylabel('$y[k]$')\n",
        "    plt.xlim([0, N+L])\n",
        "    plt.gca().margins(y=0.1)\n",
        "\n",
        "plt.figure(figsize = (10, 8))\n",
        "plt.subplot(3,1,1)\n",
        "plot_signal(y1)\n",
        "plt.title('Convolución lineal')\n",
        "\n",
        "plt.subplot(3,1,2)\n",
        "plot_signal(y2)\n",
        "plt.title('Convolución periódica de período $P=%d$'%P)\n",
        "\n",
        "plt.subplot(3,1,3)\n",
        "plot_signal(y3)\n",
        "plt.title('Convolución lineal calculada mediante la convolución periódica')\n",
        "plt.tight_layout()\n",
        "\n",
        "\n",
        "plt.show()"
      ],
      "outputs": [
        {
          "output_type": "display_data",
          "data": {
            "image/png": "[encoded data removed]",
            "text/plain": [
              "<Figure size 720x576 with 3 Axes>"
            ]
          },
          "metadata": {
            "needs_background": "light"
          }
        }
      ],
      "execution_count": 15,
      "metadata": {}
    },
    {
      "cell_type": "markdown",
      "source": [
        "<div class=\"alert alert-block alert-warning\">\n",
        "<b>Copyright</b><br>\n",
        "\n",
        "Estos apuntes están licenciados bajo la licencia <a href=\"https://creativecommons.org/licenses/by/4.0/\">Creative Commons Attribution 4.0</a>.<br>\n",
        "Como citar: <i>Rodrigo F. Cádiz, Apuntes de Señales y Sistemas.</i>\n",
        "</div>"
      ],
      "metadata": {}
    }
  ],
  "metadata": {
    "kernelspec": {
      "display_name": "Python 3",
      "language": "python",
      "name": "python3"
    },
    "language_info": {
      "codemirror_mode": {
        "name": "ipython",
        "version": 3
      },
      "file_extension": ".py",
      "mimetype": "text/x-python",
      "name": "python",
      "nbconvert_exporter": "python",
      "pygments_lexer": "ipython3",
      "version": "3.7.3"
    },
    "nbTranslate": {
      "displayLangs": [
        "*"
      ],
      "hotkey": "alt-t",
      "langInMainMenu": true,
      "sourceLang": "en",
      "targetLang": "fr",
      "useGoogleTranslate": true
    },
    "nteract": {
      "version": "0.15.0"
    }
  },
  "nbformat": 4,
  "nbformat_minor": 1
}