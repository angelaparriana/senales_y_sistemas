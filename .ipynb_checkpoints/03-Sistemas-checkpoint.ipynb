{
 "cells": [
  {
   "cell_type": "markdown",
   "metadata": {
    "nbsphinx": "hidden"
   },
   "source": [
    "# Sistemas\n",
    "\n",
    "<div class=\"alert alert-block alert-warning\">\n",
    "Este Jupyter notebook es parte de una colección de apuntes para el curso IEE2103 Señales y Sistemas, Departamento de Ingeniería Eléctrica, Pontificia Universidad Católica de Chile. \n",
    "</div>\n",
    "\n",
    "Consultas y comentarios: [rcadiz@ing.puc.cl](mailto:rcadiz@ing.puc.cl)\n",
    "\n",
    "***"
   ]
  },
  {
   "cell_type": "markdown",
   "metadata": {},
   "source": [
    "## Concepto de sistema\n",
    "\n",
    "Un sistema puede idealizarse como una caja negra, con entradas y salidas, tal como lo muestra la figura.\n",
    "<img src=\"images/sistema.png\">\n",
    "En este caso, la entrada se denota por la variable $x$, la salida por $y$ y el sistema mediante $\\mathcal{L}\\{\\cdot\\}$.\n",
    "\n",
    "Un sistema se puede escribir matemáticamente como:\n",
    "\n",
    "- $\\mathcal{L}\\{x(t))\\} = y(t)$\n",
    "\n",
    "o bien\n",
    "\n",
    "- $x(t) \\rightarrow y(t)$\n",
    "\n",
    "\n",
    "Al modelar sistemas en forma matemática, las entradas y salidas (señales) son funciones o distribuciones mientras que los sistemas son funciones de funciones, funciones compuestas, transformadas u operadores.\n",
    "\n",
    "**Ejemplos de sistemas**\n",
    "\n",
    "- Circuitos eléctricos\n",
    "- Un automóvil\n",
    "- Procesos químicos\n",
    "- Una máquina electromecánica\n",
    "- La economía de un país\n",
    "- La bolsa de comercio\n",
    "- Procesos biológicos"
   ]
  },
  {
   "cell_type": "markdown",
   "metadata": {},
   "source": [
    "### Sistemas continuos vs discretos\n",
    "\n",
    "Los sistemas pueden clasificarse en dos grandes grupos:\n",
    "\n",
    "- Sistemas de variable contínua\n",
    "    - Operan sobre señales contínuas\n",
    "    - Comúnmente se encuentran en el mundo físico\n",
    "    - Se representan mediante ecuaciones diferenciales\n",
    "    - Los parámetros del sistema se definen en un continuo de la variable independiente\n",
    "\n",
    "\n",
    "- Sistemas de variable discreta\n",
    "    - Operan sobre señales discretas\n",
    "    - Ejemplo: algoritmo computacional\n",
    "    - Se representan por ecuaciones de diferencias\n",
    "    - Los parámetros del sistema se definen sólo en ciertos puntos de la variable independiente\n",
    "    \n",
    "- Sistemas hibridos\n",
    "    - En la práctica, muchos sistemas son hídridos\n",
    "    \n",
    "    \n",
    "***"
   ]
  },
  {
   "cell_type": "markdown",
   "metadata": {},
   "source": [
    "## Propiedades de sistemas\n",
    "\n",
    "Los sistemas pueden tener las siguientes propiedades:\n",
    "\n",
    "- Causalidad\n",
    "- Linealidad\n",
    "- Invariancia\n",
    "- Estabilidad\n",
    "- Memoria\n",
    "- Invertibilidad"
   ]
  },
  {
   "cell_type": "markdown",
   "metadata": {},
   "source": [
    "### Causalidad\n",
    "\n",
    "El [principio de causalidad](https://en.wikipedia.org/wiki/Causality) estipula que un efecto proviene de una causa anterior. Por supuesto esto tiene mucho sentido en sistemas temporales, que operan en el tiempo, una variable que físicamente no se puede revertir. Pero un sistema no temporal puede perfectamente violar este principio, por ejemplo un filtro que se aplica a una imagen, donde el resultado del proceso puede depender de píxeles posicionados a la izquierda o a la derecha del filtro. Estos tipos de sistemas son no-causales.\n",
    "\n",
    "\n"
   ]
  },
  {
   "cell_type": "markdown",
   "metadata": {},
   "source": [
    "**Ejemplo**\n",
    "\n",
    "En la siguiente animación se muestra un ejemplo de un sistema no causal, donde la salida del sistema (el píxel que se forma en la imagen de arriba), depende de un grupo de píxeles de la imagen de entrada, arriba, abajo, a la izquierda y derecha del píxel central.\n",
    "<img src=\"images/sistema-no-causal.gif\">\n",
    "\n",
    "(Imagen obtenida de: Vincent Dumoulin, Francesco Visin - [A guide to convolution arithmetic for deep learning (BibTeX)](https://arxiv.org/abs/1603.07285))\n",
    "\n",
    "\n",
    "**Causalidad temporal:**\n",
    "Un sistema físico, que depende en el tiempo, es causal si su salida en cualquier tiempo depende sólo de los valores de la entrada en el momento presente y en el pasado.\n"
   ]
  },
  {
   "cell_type": "markdown",
   "metadata": {},
   "source": [
    "### Linealidad\n",
    "\n",
    "\n",
    "La linealidad implica que se cumple con dos principios: el de homogeneidad y el de superposición. Matemáticamete, dado un sistema $\\mathcal{L}\\{ \\cdot \\}$ y una entrada $x(t)$, este es lineal si es que cumple con\n",
    "\n",
    "- Homogeneidad: $\\mathcal{L}\\{\\alpha x(t)\\} = \\alpha \\mathcal{L}\\{x(t)\\}$\n",
    "- Superposición: $\\mathcal{L}\\{x_1(t)+x_1(t)\\} = \\mathcal{L}\\{x_1(t)\\} + \\mathcal{L}\\{x_2(t)\\} $"
   ]
  },
  {
   "cell_type": "markdown",
   "metadata": {},
   "source": [
    "**Ejemplo**\n",
    "\n"
   ]
  },
  {
   "cell_type": "code",
   "execution_count": null,
   "metadata": {},
   "outputs": [],
   "source": []
  },
  {
   "cell_type": "markdown",
   "metadata": {},
   "source": [
    "### Invarianza\n",
    "\n",
    "Un sistema es inviariante es uno que mantiene sus características cuando hay retrasos o adelantos en la variable independiente. Matemáticamente:\n",
    "\n",
    "- $\\mathcal{L}\\{x(t-\\xi)\\} = \\mathcal{L}\\{x(t)\\} - \\xi$\n",
    "\n",
    "\n",
    "Invariancia en el tiempo\n",
    "Un sistema es invariante en el tiempo si el comportamiento y características del mismo están fijos en el tiempo.\n",
    "\n",
    "Es decir, si\n",
    "\n",
    "\n",
    "\n",
    "entonces\n"
   ]
  },
  {
   "cell_type": "markdown",
   "metadata": {},
   "source": [
    "### Estabilidad\n",
    "\n",
    "Un sistema estable es aquel que, dada una entrada acotada, genera una salida acotada. Esto implica que la salida del sistema no crece indefinidamente. En otras palabras, entradas pequeñas conducen a respuestas que no divergen.\n",
    "\n"
   ]
  },
  {
   "cell_type": "markdown",
   "metadata": {},
   "source": [
    "### Memoria\n",
    "\n",
    "Un sistema con memoria es aquel que depende de valores pasados o futuros (izquierdos o derechos, arriba o abajo) de la entrada. Por el contrario, un sistema sin memoria es aquel que solo depende del valor presente de la entrada.\n",
    "\n"
   ]
  },
  {
   "cell_type": "markdown",
   "metadata": {},
   "source": [
    "### Invertibilidad\n",
    "\n",
    "Un sistema es invertible si observando su salida es posible determinar su entrada. Si un sistema es invertible, entonces se puede constriur un sistema inverso en cascada con el sistema original que produce como salida la entrada original.\n",
    "\n",
    "\n",
    "\n",
    "\n",
    "\n"
   ]
  },
  {
   "cell_type": "markdown",
   "metadata": {
    "nbsphinx": "hidden"
   },
   "source": [
    "**Copyright**\n",
    "\n",
    "Estos apuntes están licensiados bajo la licencia [Creative Commons Attribution 4.0](https://creativecommons.org/licenses/by/4.0/). Como citar: *Rodrigo F. Cádiz, Apuntes de Señales y Sistemas.*"
   ]
  },
  {
   "cell_type": "code",
   "execution_count": null,
   "metadata": {},
   "outputs": [],
   "source": []
  }
 ],
 "metadata": {
  "kernelspec": {
   "display_name": "Python 3",
   "language": "python",
   "name": "python3"
  },
  "language_info": {
   "codemirror_mode": {
    "name": "ipython",
    "version": 3
   },
   "file_extension": ".py",
   "mimetype": "text/x-python",
   "name": "python",
   "nbconvert_exporter": "python",
   "pygments_lexer": "ipython3",
   "version": "3.7.3"
  }
 },
 "nbformat": 4,
 "nbformat_minor": 1
}
