{
 "cells": [
  {
   "cell_type": "markdown",
   "metadata": {
    "nbsphinx": "hidden"
   },
   "source": [
    "# Sistemas\n",
    "\n",
    "*Este Jupyter notebook es parte de una colección de apuntes para el curso IEE2103 Señales y Sistemas, Departamento de Ingeniería Eléctrica, Pontificia Universidad Católica de Chile. Consultas y comentarios: [rcadiz@ing.puc.cl](mailto:rcadiz@ing.puc.cl)*"
   ]
  },
  {
   "cell_type": "markdown",
   "metadata": {},
   "source": [
    "## Concepto de sistema\n",
    "\n",
    "Un sistema puede idealizarse como una caja negra, con entradas y salidas, tal como lo muestra la figura.\n",
    "<img src=\"images/sistema.png\">\n",
    "En este caso, la entrada se denota por la variable $x$, la salida por $y$ y el sistema mediante $\\mathcal{L}\\{\\}$.\n",
    "\n",
    "Matemáticamente:\n",
    "- Las entradas y salidas (señales) son funciones o distribuciones\n",
    "- Los sistemas son funciones de funciones, funciones compuestas, transformadas u operadores"
   ]
  },
  {
   "cell_type": "markdown",
   "metadata": {},
   "source": [
    "### Clasificación\n",
    "\n",
    "Los sistemas pueden clasificarse"
   ]
  },
  {
   "cell_type": "markdown",
   "metadata": {},
   "source": [
    "### Causalidad\n",
    "\n",
    "El [principio de causalidad](https://en.wikipedia.org/wiki/Causality) estipula que un efecto proviene de una causa anterior. Por supuesto esto tiene mucho sentido en sistemas temporales, que operan en el tiempo, una variable que físicamente no se puede revertir. Pero un sistema no temporal puede perfectamente violar este principio, por ejemplo un filtro que se aplica a una imagen, donde el resultado del proceso puede depender de píxeles posicionados a la izquierda o a la derecha del filtro. Estos tipos de sistemas son no-causales.\n",
    "\n",
    "\n"
   ]
  },
  {
   "cell_type": "markdown",
   "metadata": {},
   "source": [
    "**Ejemplo**\n",
    "\n",
    "En la siguiente animación se muestra un ejemplo de un sistema no causal, donde la salida del sistema (el píxel que se forma en la imagen de arriba), depende de un grupo de píxeles de la imagen de entrada, arriba, abajo, a la izquierda y derecha del píxel central.\n",
    "<img src=\"images/sistema-no-causal.gif\">\n",
    "\n",
    "(Imagen obtenida de: Vincent Dumoulin, Francesco Visin - [A guide to convolution arithmetic for deep learning (BibTeX)](https://arxiv.org/abs/1603.07285))"
   ]
  },
  {
   "cell_type": "markdown",
   "metadata": {},
   "source": [
    "Algo más pasa con los sistemas."
   ]
  },
  {
   "cell_type": "code",
   "execution_count": null,
   "metadata": {},
   "outputs": [],
   "source": []
  },
  {
   "cell_type": "markdown",
   "metadata": {},
   "source": [
    "### Linealidad\n",
    "\n",
    "\n",
    "La linealidad blabla "
   ]
  },
  {
   "cell_type": "markdown",
   "metadata": {},
   "source": [
    "**Ejemplo**\n",
    "\n"
   ]
  },
  {
   "cell_type": "code",
   "execution_count": null,
   "metadata": {},
   "outputs": [],
   "source": []
  },
  {
   "cell_type": "markdown",
   "metadata": {},
   "source": [
    "### Invarianza\n",
    "\n",
    "La invarianza, blabla"
   ]
  },
  {
   "cell_type": "markdown",
   "metadata": {},
   "source": [
    "### Memoria\n",
    "\n",
    "Memoria blabla\n"
   ]
  },
  {
   "cell_type": "markdown",
   "metadata": {
    "nbsphinx": "hidden"
   },
   "source": [
    "**Copyright**\n",
    "\n",
    "Estos apuntes están licensiados bajo la licencia [Creative Commons Attribution 4.0](https://creativecommons.org/licenses/by/4.0/). Como citar: *Rodrigo F. Cádiz, Apuntes de Señales y Sistemas.*"
   ]
  },
  {
   "cell_type": "code",
   "execution_count": null,
   "metadata": {},
   "outputs": [],
   "source": []
  }
 ],
 "metadata": {
  "kernelspec": {
   "display_name": "Python 3",
   "language": "python",
   "name": "python3"
  },
  "language_info": {
   "codemirror_mode": {
    "name": "ipython",
    "version": 3
   },
   "file_extension": ".py",
   "mimetype": "text/x-python",
   "name": "python",
   "nbconvert_exporter": "python",
   "pygments_lexer": "ipython3",
   "version": "3.7.3"
  }
 },
 "nbformat": 4,
 "nbformat_minor": 1
}
